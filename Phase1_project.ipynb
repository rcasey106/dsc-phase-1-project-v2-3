{
 "cells": [
  {
   "cell_type": "markdown",
   "metadata": {},
   "source": [
    "# Phase 1 Project: Movie Analysis"
   ]
  },
  {
   "cell_type": "markdown",
   "metadata": {},
   "source": [
    "Microsoft sees all the big companies creating original video content and they want to get in on the fun. They have decided to create a new movie studio, but they dont know anything about creating movies. You are charged with exploring what types of films are currently doing the best at the box office. You must then translate those findings into actionable insights that the head of Microsoft's new movie studio can use to help decide what type of films to create."
   ]
  },
  {
   "cell_type": "markdown",
   "metadata": {},
   "source": [
    "### Importing relevant packages and loading in the data"
   ]
  },
  {
   "cell_type": "code",
   "execution_count": 20,
   "metadata": {},
   "outputs": [],
   "source": [
    "import pandas as pd\n",
    "import seaborn as sns\n",
    "%matplotlib inline\n",
    "import matplotlib.pyplot as plt"
   ]
  },
  {
   "cell_type": "code",
   "execution_count": 7,
   "metadata": {},
   "outputs": [
    {
     "data": {
      "text/html": [
       "<div>\n",
       "<style scoped>\n",
       "    .dataframe tbody tr th:only-of-type {\n",
       "        vertical-align: middle;\n",
       "    }\n",
       "\n",
       "    .dataframe tbody tr th {\n",
       "        vertical-align: top;\n",
       "    }\n",
       "\n",
       "    .dataframe thead th {\n",
       "        text-align: right;\n",
       "    }\n",
       "</style>\n",
       "<table border=\"1\" class=\"dataframe\">\n",
       "  <thead>\n",
       "    <tr style=\"text-align: right;\">\n",
       "      <th></th>\n",
       "      <th>tconst</th>\n",
       "      <th>primary_title</th>\n",
       "      <th>original_title</th>\n",
       "      <th>start_year</th>\n",
       "      <th>runtime_minutes</th>\n",
       "      <th>genres</th>\n",
       "    </tr>\n",
       "  </thead>\n",
       "  <tbody>\n",
       "    <tr>\n",
       "      <th>0</th>\n",
       "      <td>tt0063540</td>\n",
       "      <td>Sunghursh</td>\n",
       "      <td>Sunghursh</td>\n",
       "      <td>2013</td>\n",
       "      <td>175.0</td>\n",
       "      <td>Action,Crime,Drama</td>\n",
       "    </tr>\n",
       "    <tr>\n",
       "      <th>1</th>\n",
       "      <td>tt0066787</td>\n",
       "      <td>One Day Before the Rainy Season</td>\n",
       "      <td>Ashad Ka Ek Din</td>\n",
       "      <td>2019</td>\n",
       "      <td>114.0</td>\n",
       "      <td>Biography,Drama</td>\n",
       "    </tr>\n",
       "    <tr>\n",
       "      <th>2</th>\n",
       "      <td>tt0069049</td>\n",
       "      <td>The Other Side of the Wind</td>\n",
       "      <td>The Other Side of the Wind</td>\n",
       "      <td>2018</td>\n",
       "      <td>122.0</td>\n",
       "      <td>Drama</td>\n",
       "    </tr>\n",
       "    <tr>\n",
       "      <th>3</th>\n",
       "      <td>tt0069204</td>\n",
       "      <td>Sabse Bada Sukh</td>\n",
       "      <td>Sabse Bada Sukh</td>\n",
       "      <td>2018</td>\n",
       "      <td>NaN</td>\n",
       "      <td>Comedy,Drama</td>\n",
       "    </tr>\n",
       "    <tr>\n",
       "      <th>4</th>\n",
       "      <td>tt0100275</td>\n",
       "      <td>The Wandering Soap Opera</td>\n",
       "      <td>La Telenovela Errante</td>\n",
       "      <td>2017</td>\n",
       "      <td>80.0</td>\n",
       "      <td>Comedy,Drama,Fantasy</td>\n",
       "    </tr>\n",
       "  </tbody>\n",
       "</table>\n",
       "</div>"
      ],
      "text/plain": [
       "      tconst                    primary_title              original_title  \\\n",
       "0  tt0063540                        Sunghursh                   Sunghursh   \n",
       "1  tt0066787  One Day Before the Rainy Season             Ashad Ka Ek Din   \n",
       "2  tt0069049       The Other Side of the Wind  The Other Side of the Wind   \n",
       "3  tt0069204                  Sabse Bada Sukh             Sabse Bada Sukh   \n",
       "4  tt0100275         The Wandering Soap Opera       La Telenovela Errante   \n",
       "\n",
       "   start_year  runtime_minutes                genres  \n",
       "0        2013            175.0    Action,Crime,Drama  \n",
       "1        2019            114.0       Biography,Drama  \n",
       "2        2018            122.0                 Drama  \n",
       "3        2018              NaN          Comedy,Drama  \n",
       "4        2017             80.0  Comedy,Drama,Fantasy  "
      ]
     },
     "execution_count": 7,
     "metadata": {},
     "output_type": "execute_result"
    }
   ],
   "source": [
    "df = pd.read_csv(r'C:\\Users\\User1\\Documents\\Github copy\\Phase_1\\dsc-phase-1-project-v2-3-master (1)\\dsc-phase-1-project-v2-3-master\\zippedData\\imdb.title.basics.csv.gz', compression='gzip', header=0,    sep=',', error_bad_lines=False)\n",
    "df.head()"
   ]
  },
  {
   "cell_type": "code",
   "execution_count": 8,
   "metadata": {},
   "outputs": [
    {
     "data": {
      "text/html": [
       "<div>\n",
       "<style scoped>\n",
       "    .dataframe tbody tr th:only-of-type {\n",
       "        vertical-align: middle;\n",
       "    }\n",
       "\n",
       "    .dataframe tbody tr th {\n",
       "        vertical-align: top;\n",
       "    }\n",
       "\n",
       "    .dataframe thead th {\n",
       "        text-align: right;\n",
       "    }\n",
       "</style>\n",
       "<table border=\"1\" class=\"dataframe\">\n",
       "  <thead>\n",
       "    <tr style=\"text-align: right;\">\n",
       "      <th></th>\n",
       "      <th>tconst</th>\n",
       "      <th>averagerating</th>\n",
       "      <th>numvotes</th>\n",
       "    </tr>\n",
       "  </thead>\n",
       "  <tbody>\n",
       "    <tr>\n",
       "      <th>0</th>\n",
       "      <td>tt10356526</td>\n",
       "      <td>8.3</td>\n",
       "      <td>31</td>\n",
       "    </tr>\n",
       "    <tr>\n",
       "      <th>1</th>\n",
       "      <td>tt10384606</td>\n",
       "      <td>8.9</td>\n",
       "      <td>559</td>\n",
       "    </tr>\n",
       "    <tr>\n",
       "      <th>2</th>\n",
       "      <td>tt1042974</td>\n",
       "      <td>6.4</td>\n",
       "      <td>20</td>\n",
       "    </tr>\n",
       "    <tr>\n",
       "      <th>3</th>\n",
       "      <td>tt1043726</td>\n",
       "      <td>4.2</td>\n",
       "      <td>50352</td>\n",
       "    </tr>\n",
       "    <tr>\n",
       "      <th>4</th>\n",
       "      <td>tt1060240</td>\n",
       "      <td>6.5</td>\n",
       "      <td>21</td>\n",
       "    </tr>\n",
       "  </tbody>\n",
       "</table>\n",
       "</div>"
      ],
      "text/plain": [
       "       tconst  averagerating  numvotes\n",
       "0  tt10356526            8.3        31\n",
       "1  tt10384606            8.9       559\n",
       "2   tt1042974            6.4        20\n",
       "3   tt1043726            4.2     50352\n",
       "4   tt1060240            6.5        21"
      ]
     },
     "execution_count": 8,
     "metadata": {},
     "output_type": "execute_result"
    }
   ],
   "source": [
    "ratings = pd.read_csv(r'C:\\Users\\User1\\Documents\\Github copy\\Phase_1\\dsc-phase-1-project-v2-3-master (1)\\dsc-phase-1-project-v2-3-master\\zippedData\\imdb.title.ratings.csv.gz', compression='gzip', header=0,    sep=',', error_bad_lines=False)\n",
    "ratings.head()"
   ]
  },
  {
   "cell_type": "code",
   "execution_count": 9,
   "metadata": {},
   "outputs": [
    {
     "data": {
      "text/html": [
       "<div>\n",
       "<style scoped>\n",
       "    .dataframe tbody tr th:only-of-type {\n",
       "        vertical-align: middle;\n",
       "    }\n",
       "\n",
       "    .dataframe tbody tr th {\n",
       "        vertical-align: top;\n",
       "    }\n",
       "\n",
       "    .dataframe thead th {\n",
       "        text-align: right;\n",
       "    }\n",
       "</style>\n",
       "<table border=\"1\" class=\"dataframe\">\n",
       "  <thead>\n",
       "    <tr style=\"text-align: right;\">\n",
       "      <th></th>\n",
       "      <th>title</th>\n",
       "      <th>studio</th>\n",
       "      <th>domestic_gross</th>\n",
       "      <th>foreign_gross</th>\n",
       "      <th>year</th>\n",
       "    </tr>\n",
       "  </thead>\n",
       "  <tbody>\n",
       "    <tr>\n",
       "      <th>0</th>\n",
       "      <td>Toy Story 3</td>\n",
       "      <td>BV</td>\n",
       "      <td>415000000.0</td>\n",
       "      <td>652000000</td>\n",
       "      <td>2010</td>\n",
       "    </tr>\n",
       "    <tr>\n",
       "      <th>1</th>\n",
       "      <td>Alice in Wonderland (2010)</td>\n",
       "      <td>BV</td>\n",
       "      <td>334200000.0</td>\n",
       "      <td>691300000</td>\n",
       "      <td>2010</td>\n",
       "    </tr>\n",
       "    <tr>\n",
       "      <th>2</th>\n",
       "      <td>Harry Potter and the Deathly Hallows Part 1</td>\n",
       "      <td>WB</td>\n",
       "      <td>296000000.0</td>\n",
       "      <td>664300000</td>\n",
       "      <td>2010</td>\n",
       "    </tr>\n",
       "    <tr>\n",
       "      <th>3</th>\n",
       "      <td>Inception</td>\n",
       "      <td>WB</td>\n",
       "      <td>292600000.0</td>\n",
       "      <td>535700000</td>\n",
       "      <td>2010</td>\n",
       "    </tr>\n",
       "    <tr>\n",
       "      <th>4</th>\n",
       "      <td>Shrek Forever After</td>\n",
       "      <td>P/DW</td>\n",
       "      <td>238700000.0</td>\n",
       "      <td>513900000</td>\n",
       "      <td>2010</td>\n",
       "    </tr>\n",
       "  </tbody>\n",
       "</table>\n",
       "</div>"
      ],
      "text/plain": [
       "                                         title studio  domestic_gross  \\\n",
       "0                                  Toy Story 3     BV     415000000.0   \n",
       "1                   Alice in Wonderland (2010)     BV     334200000.0   \n",
       "2  Harry Potter and the Deathly Hallows Part 1     WB     296000000.0   \n",
       "3                                    Inception     WB     292600000.0   \n",
       "4                          Shrek Forever After   P/DW     238700000.0   \n",
       "\n",
       "  foreign_gross  year  \n",
       "0     652000000  2010  \n",
       "1     691300000  2010  \n",
       "2     664300000  2010  \n",
       "3     535700000  2010  \n",
       "4     513900000  2010  "
      ]
     },
     "execution_count": 9,
     "metadata": {},
     "output_type": "execute_result"
    }
   ],
   "source": [
    "movie_gross = pd.read_csv(r'C:\\Users\\User1\\Documents\\Github copy\\Phase_1\\dsc-phase-1-project-v2-3-master (1)\\dsc-phase-1-project-v2-3-master\\zippedData\\bom.movie_gross.csv.gz', compression='gzip', header=0,    sep=',', error_bad_lines=False)\n",
    "movie_gross.head()"
   ]
  },
  {
   "cell_type": "markdown",
   "metadata": {},
   "source": [
    "**Merging all the dataframes**"
   ]
  },
  {
   "cell_type": "code",
   "execution_count": 10,
   "metadata": {},
   "outputs": [
    {
     "data": {
      "text/html": [
       "<div>\n",
       "<style scoped>\n",
       "    .dataframe tbody tr th:only-of-type {\n",
       "        vertical-align: middle;\n",
       "    }\n",
       "\n",
       "    .dataframe tbody tr th {\n",
       "        vertical-align: top;\n",
       "    }\n",
       "\n",
       "    .dataframe thead th {\n",
       "        text-align: right;\n",
       "    }\n",
       "</style>\n",
       "<table border=\"1\" class=\"dataframe\">\n",
       "  <thead>\n",
       "    <tr style=\"text-align: right;\">\n",
       "      <th></th>\n",
       "      <th>tconst</th>\n",
       "      <th>primary_title</th>\n",
       "      <th>original_title</th>\n",
       "      <th>start_year</th>\n",
       "      <th>runtime_minutes</th>\n",
       "      <th>genres</th>\n",
       "      <th>averagerating</th>\n",
       "      <th>numvotes</th>\n",
       "    </tr>\n",
       "  </thead>\n",
       "  <tbody>\n",
       "    <tr>\n",
       "      <th>0</th>\n",
       "      <td>tt0063540</td>\n",
       "      <td>Sunghursh</td>\n",
       "      <td>Sunghursh</td>\n",
       "      <td>2013</td>\n",
       "      <td>175.0</td>\n",
       "      <td>Action,Crime,Drama</td>\n",
       "      <td>7.0</td>\n",
       "      <td>77</td>\n",
       "    </tr>\n",
       "    <tr>\n",
       "      <th>1</th>\n",
       "      <td>tt0066787</td>\n",
       "      <td>One Day Before the Rainy Season</td>\n",
       "      <td>Ashad Ka Ek Din</td>\n",
       "      <td>2019</td>\n",
       "      <td>114.0</td>\n",
       "      <td>Biography,Drama</td>\n",
       "      <td>7.2</td>\n",
       "      <td>43</td>\n",
       "    </tr>\n",
       "    <tr>\n",
       "      <th>2</th>\n",
       "      <td>tt0069049</td>\n",
       "      <td>The Other Side of the Wind</td>\n",
       "      <td>The Other Side of the Wind</td>\n",
       "      <td>2018</td>\n",
       "      <td>122.0</td>\n",
       "      <td>Drama</td>\n",
       "      <td>6.9</td>\n",
       "      <td>4517</td>\n",
       "    </tr>\n",
       "    <tr>\n",
       "      <th>3</th>\n",
       "      <td>tt0069204</td>\n",
       "      <td>Sabse Bada Sukh</td>\n",
       "      <td>Sabse Bada Sukh</td>\n",
       "      <td>2018</td>\n",
       "      <td>NaN</td>\n",
       "      <td>Comedy,Drama</td>\n",
       "      <td>6.1</td>\n",
       "      <td>13</td>\n",
       "    </tr>\n",
       "    <tr>\n",
       "      <th>4</th>\n",
       "      <td>tt0100275</td>\n",
       "      <td>The Wandering Soap Opera</td>\n",
       "      <td>La Telenovela Errante</td>\n",
       "      <td>2017</td>\n",
       "      <td>80.0</td>\n",
       "      <td>Comedy,Drama,Fantasy</td>\n",
       "      <td>6.5</td>\n",
       "      <td>119</td>\n",
       "    </tr>\n",
       "  </tbody>\n",
       "</table>\n",
       "</div>"
      ],
      "text/plain": [
       "      tconst                    primary_title              original_title  \\\n",
       "0  tt0063540                        Sunghursh                   Sunghursh   \n",
       "1  tt0066787  One Day Before the Rainy Season             Ashad Ka Ek Din   \n",
       "2  tt0069049       The Other Side of the Wind  The Other Side of the Wind   \n",
       "3  tt0069204                  Sabse Bada Sukh             Sabse Bada Sukh   \n",
       "4  tt0100275         The Wandering Soap Opera       La Telenovela Errante   \n",
       "\n",
       "   start_year  runtime_minutes                genres  averagerating  numvotes  \n",
       "0        2013            175.0    Action,Crime,Drama            7.0        77  \n",
       "1        2019            114.0       Biography,Drama            7.2        43  \n",
       "2        2018            122.0                 Drama            6.9      4517  \n",
       "3        2018              NaN          Comedy,Drama            6.1        13  \n",
       "4        2017             80.0  Comedy,Drama,Fantasy            6.5       119  "
      ]
     },
     "execution_count": 10,
     "metadata": {},
     "output_type": "execute_result"
    }
   ],
   "source": [
    "df_ratings = df.merge(ratings, on = \"tconst\", how = \"inner\")\n",
    "df_ratings.head()"
   ]
  },
  {
   "cell_type": "code",
   "execution_count": 11,
   "metadata": {},
   "outputs": [
    {
     "data": {
      "text/html": [
       "<div>\n",
       "<style scoped>\n",
       "    .dataframe tbody tr th:only-of-type {\n",
       "        vertical-align: middle;\n",
       "    }\n",
       "\n",
       "    .dataframe tbody tr th {\n",
       "        vertical-align: top;\n",
       "    }\n",
       "\n",
       "    .dataframe thead th {\n",
       "        text-align: right;\n",
       "    }\n",
       "</style>\n",
       "<table border=\"1\" class=\"dataframe\">\n",
       "  <thead>\n",
       "    <tr style=\"text-align: right;\">\n",
       "      <th></th>\n",
       "      <th>tconst</th>\n",
       "      <th>primary_title</th>\n",
       "      <th>original_title</th>\n",
       "      <th>start_year</th>\n",
       "      <th>runtime_minutes</th>\n",
       "      <th>genres</th>\n",
       "      <th>averagerating</th>\n",
       "      <th>numvotes</th>\n",
       "      <th>title</th>\n",
       "      <th>studio</th>\n",
       "      <th>domestic_gross</th>\n",
       "      <th>foreign_gross</th>\n",
       "      <th>year</th>\n",
       "    </tr>\n",
       "  </thead>\n",
       "  <tbody>\n",
       "    <tr>\n",
       "      <th>0</th>\n",
       "      <td>tt0315642</td>\n",
       "      <td>Wazir</td>\n",
       "      <td>Wazir</td>\n",
       "      <td>2016</td>\n",
       "      <td>103.0</td>\n",
       "      <td>Action,Crime,Drama</td>\n",
       "      <td>7.1</td>\n",
       "      <td>15378</td>\n",
       "      <td>Wazir</td>\n",
       "      <td>Relbig.</td>\n",
       "      <td>1100000.0</td>\n",
       "      <td>NaN</td>\n",
       "      <td>2016</td>\n",
       "    </tr>\n",
       "    <tr>\n",
       "      <th>1</th>\n",
       "      <td>tt0337692</td>\n",
       "      <td>On the Road</td>\n",
       "      <td>On the Road</td>\n",
       "      <td>2012</td>\n",
       "      <td>124.0</td>\n",
       "      <td>Adventure,Drama,Romance</td>\n",
       "      <td>6.1</td>\n",
       "      <td>37886</td>\n",
       "      <td>On the Road</td>\n",
       "      <td>IFC</td>\n",
       "      <td>744000.0</td>\n",
       "      <td>8000000</td>\n",
       "      <td>2012</td>\n",
       "    </tr>\n",
       "    <tr>\n",
       "      <th>2</th>\n",
       "      <td>tt4339118</td>\n",
       "      <td>On the Road</td>\n",
       "      <td>On the Road</td>\n",
       "      <td>2014</td>\n",
       "      <td>89.0</td>\n",
       "      <td>Drama</td>\n",
       "      <td>6.0</td>\n",
       "      <td>6</td>\n",
       "      <td>On the Road</td>\n",
       "      <td>IFC</td>\n",
       "      <td>744000.0</td>\n",
       "      <td>8000000</td>\n",
       "      <td>2012</td>\n",
       "    </tr>\n",
       "    <tr>\n",
       "      <th>3</th>\n",
       "      <td>tt5647250</td>\n",
       "      <td>On the Road</td>\n",
       "      <td>On the Road</td>\n",
       "      <td>2016</td>\n",
       "      <td>121.0</td>\n",
       "      <td>Drama</td>\n",
       "      <td>5.7</td>\n",
       "      <td>127</td>\n",
       "      <td>On the Road</td>\n",
       "      <td>IFC</td>\n",
       "      <td>744000.0</td>\n",
       "      <td>8000000</td>\n",
       "      <td>2012</td>\n",
       "    </tr>\n",
       "    <tr>\n",
       "      <th>4</th>\n",
       "      <td>tt0359950</td>\n",
       "      <td>The Secret Life of Walter Mitty</td>\n",
       "      <td>The Secret Life of Walter Mitty</td>\n",
       "      <td>2013</td>\n",
       "      <td>114.0</td>\n",
       "      <td>Adventure,Comedy,Drama</td>\n",
       "      <td>7.3</td>\n",
       "      <td>275300</td>\n",
       "      <td>The Secret Life of Walter Mitty</td>\n",
       "      <td>Fox</td>\n",
       "      <td>58200000.0</td>\n",
       "      <td>129900000</td>\n",
       "      <td>2013</td>\n",
       "    </tr>\n",
       "  </tbody>\n",
       "</table>\n",
       "</div>"
      ],
      "text/plain": [
       "      tconst                    primary_title  \\\n",
       "0  tt0315642                            Wazir   \n",
       "1  tt0337692                      On the Road   \n",
       "2  tt4339118                      On the Road   \n",
       "3  tt5647250                      On the Road   \n",
       "4  tt0359950  The Secret Life of Walter Mitty   \n",
       "\n",
       "                    original_title  start_year  runtime_minutes  \\\n",
       "0                            Wazir        2016            103.0   \n",
       "1                      On the Road        2012            124.0   \n",
       "2                      On the Road        2014             89.0   \n",
       "3                      On the Road        2016            121.0   \n",
       "4  The Secret Life of Walter Mitty        2013            114.0   \n",
       "\n",
       "                    genres  averagerating  numvotes  \\\n",
       "0       Action,Crime,Drama            7.1     15378   \n",
       "1  Adventure,Drama,Romance            6.1     37886   \n",
       "2                    Drama            6.0         6   \n",
       "3                    Drama            5.7       127   \n",
       "4   Adventure,Comedy,Drama            7.3    275300   \n",
       "\n",
       "                             title   studio  domestic_gross foreign_gross  \\\n",
       "0                            Wazir  Relbig.       1100000.0           NaN   \n",
       "1                      On the Road      IFC        744000.0       8000000   \n",
       "2                      On the Road      IFC        744000.0       8000000   \n",
       "3                      On the Road      IFC        744000.0       8000000   \n",
       "4  The Secret Life of Walter Mitty      Fox      58200000.0     129900000   \n",
       "\n",
       "   year  \n",
       "0  2016  \n",
       "1  2012  \n",
       "2  2012  \n",
       "3  2012  \n",
       "4  2013  "
      ]
     },
     "execution_count": 11,
     "metadata": {},
     "output_type": "execute_result"
    }
   ],
   "source": [
    "all3 = df_ratings.merge(movie_gross, left_on = 'primary_title', right_on = 'title', how = 'inner')\n",
    "all3.head()"
   ]
  },
  {
   "cell_type": "code",
   "execution_count": 12,
   "metadata": {},
   "outputs": [
    {
     "data": {
      "text/html": [
       "<div>\n",
       "<style scoped>\n",
       "    .dataframe tbody tr th:only-of-type {\n",
       "        vertical-align: middle;\n",
       "    }\n",
       "\n",
       "    .dataframe tbody tr th {\n",
       "        vertical-align: top;\n",
       "    }\n",
       "\n",
       "    .dataframe thead th {\n",
       "        text-align: right;\n",
       "    }\n",
       "</style>\n",
       "<table border=\"1\" class=\"dataframe\">\n",
       "  <thead>\n",
       "    <tr style=\"text-align: right;\">\n",
       "      <th></th>\n",
       "      <th>tconst</th>\n",
       "      <th>primary_title</th>\n",
       "      <th>original_title</th>\n",
       "      <th>start_year</th>\n",
       "      <th>runtime_minutes</th>\n",
       "      <th>genres</th>\n",
       "      <th>averagerating</th>\n",
       "      <th>numvotes</th>\n",
       "      <th>title</th>\n",
       "      <th>studio</th>\n",
       "      <th>domestic_gross</th>\n",
       "      <th>foreign_gross</th>\n",
       "      <th>year</th>\n",
       "      <th>count</th>\n",
       "    </tr>\n",
       "  </thead>\n",
       "  <tbody>\n",
       "    <tr>\n",
       "      <th>0</th>\n",
       "      <td>tt4339118</td>\n",
       "      <td>On the Road</td>\n",
       "      <td>On the Road</td>\n",
       "      <td>2014</td>\n",
       "      <td>89.0</td>\n",
       "      <td>Drama</td>\n",
       "      <td>6.0</td>\n",
       "      <td>6</td>\n",
       "      <td>On the Road</td>\n",
       "      <td>IFC</td>\n",
       "      <td>744000.0</td>\n",
       "      <td>8000000</td>\n",
       "      <td>2012</td>\n",
       "      <td>317</td>\n",
       "    </tr>\n",
       "    <tr>\n",
       "      <th>1</th>\n",
       "      <td>tt5647250</td>\n",
       "      <td>On the Road</td>\n",
       "      <td>On the Road</td>\n",
       "      <td>2016</td>\n",
       "      <td>121.0</td>\n",
       "      <td>Drama</td>\n",
       "      <td>5.7</td>\n",
       "      <td>127</td>\n",
       "      <td>On the Road</td>\n",
       "      <td>IFC</td>\n",
       "      <td>744000.0</td>\n",
       "      <td>8000000</td>\n",
       "      <td>2012</td>\n",
       "      <td>317</td>\n",
       "    </tr>\n",
       "    <tr>\n",
       "      <th>2</th>\n",
       "      <td>tt0455323</td>\n",
       "      <td>Being Flynn</td>\n",
       "      <td>Being Flynn</td>\n",
       "      <td>2012</td>\n",
       "      <td>102.0</td>\n",
       "      <td>Drama</td>\n",
       "      <td>6.4</td>\n",
       "      <td>15780</td>\n",
       "      <td>Being Flynn</td>\n",
       "      <td>Focus</td>\n",
       "      <td>540000.0</td>\n",
       "      <td>NaN</td>\n",
       "      <td>2012</td>\n",
       "      <td>317</td>\n",
       "    </tr>\n",
       "    <tr>\n",
       "      <th>3</th>\n",
       "      <td>tt0460890</td>\n",
       "      <td>The Only Living Boy in New York</td>\n",
       "      <td>The Only Living Boy in New York</td>\n",
       "      <td>2017</td>\n",
       "      <td>89.0</td>\n",
       "      <td>Drama</td>\n",
       "      <td>6.3</td>\n",
       "      <td>8727</td>\n",
       "      <td>The Only Living Boy in New York</td>\n",
       "      <td>RAtt.</td>\n",
       "      <td>624000.0</td>\n",
       "      <td>1900000</td>\n",
       "      <td>2017</td>\n",
       "      <td>317</td>\n",
       "    </tr>\n",
       "    <tr>\n",
       "      <th>4</th>\n",
       "      <td>tt0466893</td>\n",
       "      <td>Margaret</td>\n",
       "      <td>Margaret</td>\n",
       "      <td>2011</td>\n",
       "      <td>150.0</td>\n",
       "      <td>Drama</td>\n",
       "      <td>6.5</td>\n",
       "      <td>14708</td>\n",
       "      <td>Margaret</td>\n",
       "      <td>FoxS</td>\n",
       "      <td>46500.0</td>\n",
       "      <td>NaN</td>\n",
       "      <td>2011</td>\n",
       "      <td>317</td>\n",
       "    </tr>\n",
       "  </tbody>\n",
       "</table>\n",
       "</div>"
      ],
      "text/plain": [
       "      tconst                    primary_title  \\\n",
       "0  tt4339118                      On the Road   \n",
       "1  tt5647250                      On the Road   \n",
       "2  tt0455323                      Being Flynn   \n",
       "3  tt0460890  The Only Living Boy in New York   \n",
       "4  tt0466893                         Margaret   \n",
       "\n",
       "                    original_title  start_year  runtime_minutes genres  \\\n",
       "0                      On the Road        2014             89.0  Drama   \n",
       "1                      On the Road        2016            121.0  Drama   \n",
       "2                      Being Flynn        2012            102.0  Drama   \n",
       "3  The Only Living Boy in New York        2017             89.0  Drama   \n",
       "4                         Margaret        2011            150.0  Drama   \n",
       "\n",
       "   averagerating  numvotes                            title studio  \\\n",
       "0            6.0         6                      On the Road    IFC   \n",
       "1            5.7       127                      On the Road    IFC   \n",
       "2            6.4     15780                      Being Flynn  Focus   \n",
       "3            6.3      8727  The Only Living Boy in New York  RAtt.   \n",
       "4            6.5     14708                         Margaret   FoxS   \n",
       "\n",
       "   domestic_gross foreign_gross  year  count  \n",
       "0        744000.0       8000000  2012    317  \n",
       "1        744000.0       8000000  2012    317  \n",
       "2        540000.0           NaN  2012    317  \n",
       "3        624000.0       1900000  2017    317  \n",
       "4         46500.0           NaN  2011    317  "
      ]
     },
     "execution_count": 12,
     "metadata": {},
     "output_type": "execute_result"
    }
   ],
   "source": [
    "#creating a column to count the genres\n",
    "genres_df = pd.DataFrame(all3.groupby('genres').size()).reset_index().rename(columns = {0:'count'}).sort_values(by = 'count', ascending = False)\n",
    "\n",
    "#now selecting the first 5 rows (5 most common genres)\n",
    "genres_df2 = genres_df.head()\n",
    "\n",
    "#merging the 2 dataframes\n",
    "merged_genres = all3.merge(genres_df2, on = 'genres', how = 'inner')\n",
    "merged_genres.head()"
   ]
  },
  {
   "cell_type": "code",
   "execution_count": 13,
   "metadata": {},
   "outputs": [
    {
     "data": {
      "text/plain": [
       "Drama                   317\n",
       "Comedy,Drama            133\n",
       "Comedy,Drama,Romance    132\n",
       "Drama,Romance           112\n",
       "Documentary             110\n",
       "Name: genres, dtype: int64"
      ]
     },
     "execution_count": 13,
     "metadata": {},
     "output_type": "execute_result"
    }
   ],
   "source": [
    "merged_genres['genres'].value_counts(dropna = False) #making sure the counts are correct"
   ]
  },
  {
   "cell_type": "markdown",
   "metadata": {},
   "source": [
    "**Plotting the distribution of the 5 most common genres' foreign gross revenue**"
   ]
  },
  {
   "cell_type": "code",
   "execution_count": 17,
   "metadata": {},
   "outputs": [
    {
     "data": {
      "image/png": "[encoded data removed]",
      "text/plain": [
       "<Figure size 432x288 with 6 Axes>"
      ]
     },
     "metadata": {
      "needs_background": "light"
     },
     "output_type": "display_data"
    }
   ],
   "source": [
    "merged_genres['foreign_gross'].hist(xlabelsize = 0.5, by=merged_genres['genres']);"
   ]
  },
  {
   "cell_type": "code",
   "execution_count": 15,
   "metadata": {},
   "outputs": [
    {
     "data": {
      "text/html": [
       "<div>\n",
       "<style scoped>\n",
       "    .dataframe tbody tr th:only-of-type {\n",
       "        vertical-align: middle;\n",
       "    }\n",
       "\n",
       "    .dataframe tbody tr th {\n",
       "        vertical-align: top;\n",
       "    }\n",
       "\n",
       "    .dataframe thead th {\n",
       "        text-align: right;\n",
       "    }\n",
       "</style>\n",
       "<table border=\"1\" class=\"dataframe\">\n",
       "  <thead>\n",
       "    <tr style=\"text-align: right;\">\n",
       "      <th></th>\n",
       "      <th>count</th>\n",
       "      <th>mean</th>\n",
       "      <th>std</th>\n",
       "      <th>min</th>\n",
       "      <th>25%</th>\n",
       "      <th>50%</th>\n",
       "      <th>75%</th>\n",
       "      <th>max</th>\n",
       "    </tr>\n",
       "    <tr>\n",
       "      <th>genres</th>\n",
       "      <th></th>\n",
       "      <th></th>\n",
       "      <th></th>\n",
       "      <th></th>\n",
       "      <th></th>\n",
       "      <th></th>\n",
       "      <th></th>\n",
       "      <th></th>\n",
       "    </tr>\n",
       "  </thead>\n",
       "  <tbody>\n",
       "    <tr>\n",
       "      <th>Action</th>\n",
       "      <td>18.0</td>\n",
       "      <td>6.116667</td>\n",
       "      <td>1.308906</td>\n",
       "      <td>4.1</td>\n",
       "      <td>5.225</td>\n",
       "      <td>5.75</td>\n",
       "      <td>7.175</td>\n",
       "      <td>8.6</td>\n",
       "    </tr>\n",
       "    <tr>\n",
       "      <th>Action,Adventure</th>\n",
       "      <td>6.0</td>\n",
       "      <td>5.866667</td>\n",
       "      <td>0.463321</td>\n",
       "      <td>5.0</td>\n",
       "      <td>5.825</td>\n",
       "      <td>5.95</td>\n",
       "      <td>6.150</td>\n",
       "      <td>6.3</td>\n",
       "    </tr>\n",
       "    <tr>\n",
       "      <th>Action,Adventure,Animation</th>\n",
       "      <td>22.0</td>\n",
       "      <td>7.354545</td>\n",
       "      <td>0.573815</td>\n",
       "      <td>5.6</td>\n",
       "      <td>7.200</td>\n",
       "      <td>7.30</td>\n",
       "      <td>7.800</td>\n",
       "      <td>8.1</td>\n",
       "    </tr>\n",
       "    <tr>\n",
       "      <th>Action,Adventure,Biography</th>\n",
       "      <td>4.0</td>\n",
       "      <td>7.000000</td>\n",
       "      <td>0.687992</td>\n",
       "      <td>6.5</td>\n",
       "      <td>6.575</td>\n",
       "      <td>6.75</td>\n",
       "      <td>7.175</td>\n",
       "      <td>8.0</td>\n",
       "    </tr>\n",
       "    <tr>\n",
       "      <th>Action,Adventure,Comedy</th>\n",
       "      <td>32.0</td>\n",
       "      <td>6.271875</td>\n",
       "      <td>1.072000</td>\n",
       "      <td>4.1</td>\n",
       "      <td>5.475</td>\n",
       "      <td>6.20</td>\n",
       "      <td>7.025</td>\n",
       "      <td>8.1</td>\n",
       "    </tr>\n",
       "    <tr>\n",
       "      <th>...</th>\n",
       "      <td>...</td>\n",
       "      <td>...</td>\n",
       "      <td>...</td>\n",
       "      <td>...</td>\n",
       "      <td>...</td>\n",
       "      <td>...</td>\n",
       "      <td>...</td>\n",
       "      <td>...</td>\n",
       "    </tr>\n",
       "    <tr>\n",
       "      <th>Romance,Thriller</th>\n",
       "      <td>2.0</td>\n",
       "      <td>5.850000</td>\n",
       "      <td>0.494975</td>\n",
       "      <td>5.5</td>\n",
       "      <td>5.675</td>\n",
       "      <td>5.85</td>\n",
       "      <td>6.025</td>\n",
       "      <td>6.2</td>\n",
       "    </tr>\n",
       "    <tr>\n",
       "      <th>Sci-Fi</th>\n",
       "      <td>2.0</td>\n",
       "      <td>5.050000</td>\n",
       "      <td>1.202082</td>\n",
       "      <td>4.2</td>\n",
       "      <td>4.625</td>\n",
       "      <td>5.05</td>\n",
       "      <td>5.475</td>\n",
       "      <td>5.9</td>\n",
       "    </tr>\n",
       "    <tr>\n",
       "      <th>Sport</th>\n",
       "      <td>1.0</td>\n",
       "      <td>7.900000</td>\n",
       "      <td>NaN</td>\n",
       "      <td>7.9</td>\n",
       "      <td>7.900</td>\n",
       "      <td>7.90</td>\n",
       "      <td>7.900</td>\n",
       "      <td>7.9</td>\n",
       "    </tr>\n",
       "    <tr>\n",
       "      <th>Thriller</th>\n",
       "      <td>26.0</td>\n",
       "      <td>5.730769</td>\n",
       "      <td>1.099734</td>\n",
       "      <td>2.6</td>\n",
       "      <td>5.300</td>\n",
       "      <td>5.75</td>\n",
       "      <td>6.400</td>\n",
       "      <td>8.0</td>\n",
       "    </tr>\n",
       "    <tr>\n",
       "      <th>Thriller,Western</th>\n",
       "      <td>1.0</td>\n",
       "      <td>6.400000</td>\n",
       "      <td>NaN</td>\n",
       "      <td>6.4</td>\n",
       "      <td>6.400</td>\n",
       "      <td>6.40</td>\n",
       "      <td>6.400</td>\n",
       "      <td>6.4</td>\n",
       "    </tr>\n",
       "  </tbody>\n",
       "</table>\n",
       "<p>322 rows × 8 columns</p>\n",
       "</div>"
      ],
      "text/plain": [
       "                            count      mean       std  min    25%   50%  \\\n",
       "genres                                                                    \n",
       "Action                       18.0  6.116667  1.308906  4.1  5.225  5.75   \n",
       "Action,Adventure              6.0  5.866667  0.463321  5.0  5.825  5.95   \n",
       "Action,Adventure,Animation   22.0  7.354545  0.573815  5.6  7.200  7.30   \n",
       "Action,Adventure,Biography    4.0  7.000000  0.687992  6.5  6.575  6.75   \n",
       "Action,Adventure,Comedy      32.0  6.271875  1.072000  4.1  5.475  6.20   \n",
       "...                           ...       ...       ...  ...    ...   ...   \n",
       "Romance,Thriller              2.0  5.850000  0.494975  5.5  5.675  5.85   \n",
       "Sci-Fi                        2.0  5.050000  1.202082  4.2  4.625  5.05   \n",
       "Sport                         1.0  7.900000       NaN  7.9  7.900  7.90   \n",
       "Thriller                     26.0  5.730769  1.099734  2.6  5.300  5.75   \n",
       "Thriller,Western              1.0  6.400000       NaN  6.4  6.400  6.40   \n",
       "\n",
       "                              75%  max  \n",
       "genres                                  \n",
       "Action                      7.175  8.6  \n",
       "Action,Adventure            6.150  6.3  \n",
       "Action,Adventure,Animation  7.800  8.1  \n",
       "Action,Adventure,Biography  7.175  8.0  \n",
       "Action,Adventure,Comedy     7.025  8.1  \n",
       "...                           ...  ...  \n",
       "Romance,Thriller            6.025  6.2  \n",
       "Sci-Fi                      5.475  5.9  \n",
       "Sport                       7.900  7.9  \n",
       "Thriller                    6.400  8.0  \n",
       "Thriller,Western            6.400  6.4  \n",
       "\n",
       "[322 rows x 8 columns]"
      ]
     },
     "execution_count": 15,
     "metadata": {},
     "output_type": "execute_result"
    }
   ],
   "source": [
    "all3.groupby('genres')['averagerating'].describe() #looking at the distribution of average rating for each genre"
   ]
  },
  {
   "cell_type": "code",
   "execution_count": 66,
   "metadata": {},
   "outputs": [
    {
     "data": {
      "text/html": [
       "<div>\n",
       "<style scoped>\n",
       "    .dataframe tbody tr th:only-of-type {\n",
       "        vertical-align: middle;\n",
       "    }\n",
       "\n",
       "    .dataframe tbody tr th {\n",
       "        vertical-align: top;\n",
       "    }\n",
       "\n",
       "    .dataframe thead th {\n",
       "        text-align: right;\n",
       "    }\n",
       "</style>\n",
       "<table border=\"1\" class=\"dataframe\">\n",
       "  <thead>\n",
       "    <tr style=\"text-align: right;\">\n",
       "      <th></th>\n",
       "      <th>count</th>\n",
       "      <th>unique</th>\n",
       "      <th>top</th>\n",
       "      <th>freq</th>\n",
       "    </tr>\n",
       "    <tr>\n",
       "      <th>genres</th>\n",
       "      <th></th>\n",
       "      <th></th>\n",
       "      <th></th>\n",
       "      <th></th>\n",
       "    </tr>\n",
       "  </thead>\n",
       "  <tbody>\n",
       "    <tr>\n",
       "      <th>Action</th>\n",
       "      <td>11</td>\n",
       "      <td>11</td>\n",
       "      <td>4800000</td>\n",
       "      <td>1</td>\n",
       "    </tr>\n",
       "    <tr>\n",
       "      <th>Action,Adventure</th>\n",
       "      <td>2</td>\n",
       "      <td>2</td>\n",
       "      <td>3700000</td>\n",
       "      <td>1</td>\n",
       "    </tr>\n",
       "    <tr>\n",
       "      <th>Action,Adventure,Animation</th>\n",
       "      <td>17</td>\n",
       "      <td>17</td>\n",
       "      <td>47800000</td>\n",
       "      <td>1</td>\n",
       "    </tr>\n",
       "    <tr>\n",
       "      <th>Action,Adventure,Biography</th>\n",
       "      <td>4</td>\n",
       "      <td>4</td>\n",
       "      <td>68900000</td>\n",
       "      <td>1</td>\n",
       "    </tr>\n",
       "    <tr>\n",
       "      <th>Action,Adventure,Comedy</th>\n",
       "      <td>25</td>\n",
       "      <td>25</td>\n",
       "      <td>163600000</td>\n",
       "      <td>1</td>\n",
       "    </tr>\n",
       "    <tr>\n",
       "      <th>...</th>\n",
       "      <td>...</td>\n",
       "      <td>...</td>\n",
       "      <td>...</td>\n",
       "      <td>...</td>\n",
       "    </tr>\n",
       "    <tr>\n",
       "      <th>Romance,Thriller</th>\n",
       "      <td>2</td>\n",
       "      <td>2</td>\n",
       "      <td>121000</td>\n",
       "      <td>1</td>\n",
       "    </tr>\n",
       "    <tr>\n",
       "      <th>Sci-Fi</th>\n",
       "      <td>1</td>\n",
       "      <td>1</td>\n",
       "      <td>409300000</td>\n",
       "      <td>1</td>\n",
       "    </tr>\n",
       "    <tr>\n",
       "      <th>Sport</th>\n",
       "      <td>0</td>\n",
       "      <td>0</td>\n",
       "      <td>NaN</td>\n",
       "      <td>NaN</td>\n",
       "    </tr>\n",
       "    <tr>\n",
       "      <th>Thriller</th>\n",
       "      <td>13</td>\n",
       "      <td>12</td>\n",
       "      <td>6400000</td>\n",
       "      <td>2</td>\n",
       "    </tr>\n",
       "    <tr>\n",
       "      <th>Thriller,Western</th>\n",
       "      <td>1</td>\n",
       "      <td>1</td>\n",
       "      <td>300000</td>\n",
       "      <td>1</td>\n",
       "    </tr>\n",
       "  </tbody>\n",
       "</table>\n",
       "<p>322 rows × 4 columns</p>\n",
       "</div>"
      ],
      "text/plain": [
       "                           count unique        top freq\n",
       "genres                                                 \n",
       "Action                        11     11    4800000    1\n",
       "Action,Adventure               2      2    3700000    1\n",
       "Action,Adventure,Animation    17     17   47800000    1\n",
       "Action,Adventure,Biography     4      4   68900000    1\n",
       "Action,Adventure,Comedy       25     25  163600000    1\n",
       "...                          ...    ...        ...  ...\n",
       "Romance,Thriller               2      2     121000    1\n",
       "Sci-Fi                         1      1  409300000    1\n",
       "Sport                          0      0        NaN  NaN\n",
       "Thriller                      13     12    6400000    2\n",
       "Thriller,Western               1      1     300000    1\n",
       "\n",
       "[322 rows x 4 columns]"
      ]
     },
     "execution_count": 66,
     "metadata": {},
     "output_type": "execute_result"
    }
   ],
   "source": [
    "all3.groupby('genres')['foreign_gross'].describe() #looking at the distribution for foreign gross revenue\n",
    "#foreign gross does not seem to be read in as numeric--need to convert"
   ]
  },
  {
   "cell_type": "code",
   "execution_count": 67,
   "metadata": {},
   "outputs": [
    {
     "data": {
      "text/plain": [
       "tconst              object\n",
       "primary_title       object\n",
       "original_title      object\n",
       "start_year           int64\n",
       "runtime_minutes    float64\n",
       "genres              object\n",
       "averagerating      float64\n",
       "numvotes             int64\n",
       "title               object\n",
       "studio              object\n",
       "domestic_gross     float64\n",
       "foreign_gross       object\n",
       "year                 int64\n",
       "dtype: object"
      ]
     },
     "execution_count": 67,
     "metadata": {},
     "output_type": "execute_result"
    }
   ],
   "source": [
    "all3.dtypes #checking the data types for each column"
   ]
  },
  {
   "cell_type": "code",
   "execution_count": 26,
   "metadata": {},
   "outputs": [
    {
     "data": {
      "text/html": [
       "<div>\n",
       "<style scoped>\n",
       "    .dataframe tbody tr th:only-of-type {\n",
       "        vertical-align: middle;\n",
       "    }\n",
       "\n",
       "    .dataframe tbody tr th {\n",
       "        vertical-align: top;\n",
       "    }\n",
       "\n",
       "    .dataframe thead th {\n",
       "        text-align: right;\n",
       "    }\n",
       "</style>\n",
       "<table border=\"1\" class=\"dataframe\">\n",
       "  <thead>\n",
       "    <tr style=\"text-align: right;\">\n",
       "      <th></th>\n",
       "      <th>tconst</th>\n",
       "      <th>primary_title</th>\n",
       "      <th>original_title</th>\n",
       "      <th>start_year</th>\n",
       "      <th>runtime_minutes</th>\n",
       "      <th>genres</th>\n",
       "      <th>averagerating</th>\n",
       "      <th>numvotes</th>\n",
       "      <th>title</th>\n",
       "      <th>studio</th>\n",
       "      <th>domestic_gross</th>\n",
       "      <th>foreign_gross</th>\n",
       "      <th>year</th>\n",
       "      <th>new_foreign_gross</th>\n",
       "      <th>FOREIGN_GROSS</th>\n",
       "    </tr>\n",
       "  </thead>\n",
       "  <tbody>\n",
       "    <tr>\n",
       "      <th>0</th>\n",
       "      <td>tt0315642</td>\n",
       "      <td>Wazir</td>\n",
       "      <td>Wazir</td>\n",
       "      <td>2016</td>\n",
       "      <td>103.0</td>\n",
       "      <td>Action,Crime,Drama</td>\n",
       "      <td>7.1</td>\n",
       "      <td>15378</td>\n",
       "      <td>Wazir</td>\n",
       "      <td>Relbig.</td>\n",
       "      <td>1100000.0</td>\n",
       "      <td>NaN</td>\n",
       "      <td>2016</td>\n",
       "      <td>NaN</td>\n",
       "      <td>NaN</td>\n",
       "    </tr>\n",
       "    <tr>\n",
       "      <th>1</th>\n",
       "      <td>tt0337692</td>\n",
       "      <td>On the Road</td>\n",
       "      <td>On the Road</td>\n",
       "      <td>2012</td>\n",
       "      <td>124.0</td>\n",
       "      <td>Adventure,Drama,Romance</td>\n",
       "      <td>6.1</td>\n",
       "      <td>37886</td>\n",
       "      <td>On the Road</td>\n",
       "      <td>IFC</td>\n",
       "      <td>744000.0</td>\n",
       "      <td>8000000</td>\n",
       "      <td>2012</td>\n",
       "      <td>8000000</td>\n",
       "      <td>8000000.0</td>\n",
       "    </tr>\n",
       "    <tr>\n",
       "      <th>2</th>\n",
       "      <td>tt4339118</td>\n",
       "      <td>On the Road</td>\n",
       "      <td>On the Road</td>\n",
       "      <td>2014</td>\n",
       "      <td>89.0</td>\n",
       "      <td>Drama</td>\n",
       "      <td>6.0</td>\n",
       "      <td>6</td>\n",
       "      <td>On the Road</td>\n",
       "      <td>IFC</td>\n",
       "      <td>744000.0</td>\n",
       "      <td>8000000</td>\n",
       "      <td>2012</td>\n",
       "      <td>8000000</td>\n",
       "      <td>8000000.0</td>\n",
       "    </tr>\n",
       "    <tr>\n",
       "      <th>3</th>\n",
       "      <td>tt5647250</td>\n",
       "      <td>On the Road</td>\n",
       "      <td>On the Road</td>\n",
       "      <td>2016</td>\n",
       "      <td>121.0</td>\n",
       "      <td>Drama</td>\n",
       "      <td>5.7</td>\n",
       "      <td>127</td>\n",
       "      <td>On the Road</td>\n",
       "      <td>IFC</td>\n",
       "      <td>744000.0</td>\n",
       "      <td>8000000</td>\n",
       "      <td>2012</td>\n",
       "      <td>8000000</td>\n",
       "      <td>8000000.0</td>\n",
       "    </tr>\n",
       "    <tr>\n",
       "      <th>4</th>\n",
       "      <td>tt0359950</td>\n",
       "      <td>The Secret Life of Walter Mitty</td>\n",
       "      <td>The Secret Life of Walter Mitty</td>\n",
       "      <td>2013</td>\n",
       "      <td>114.0</td>\n",
       "      <td>Adventure,Comedy,Drama</td>\n",
       "      <td>7.3</td>\n",
       "      <td>275300</td>\n",
       "      <td>The Secret Life of Walter Mitty</td>\n",
       "      <td>Fox</td>\n",
       "      <td>58200000.0</td>\n",
       "      <td>129900000</td>\n",
       "      <td>2013</td>\n",
       "      <td>129900000</td>\n",
       "      <td>129900000.0</td>\n",
       "    </tr>\n",
       "  </tbody>\n",
       "</table>\n",
       "</div>"
      ],
      "text/plain": [
       "      tconst                    primary_title  \\\n",
       "0  tt0315642                            Wazir   \n",
       "1  tt0337692                      On the Road   \n",
       "2  tt4339118                      On the Road   \n",
       "3  tt5647250                      On the Road   \n",
       "4  tt0359950  The Secret Life of Walter Mitty   \n",
       "\n",
       "                    original_title  start_year  runtime_minutes  \\\n",
       "0                            Wazir        2016            103.0   \n",
       "1                      On the Road        2012            124.0   \n",
       "2                      On the Road        2014             89.0   \n",
       "3                      On the Road        2016            121.0   \n",
       "4  The Secret Life of Walter Mitty        2013            114.0   \n",
       "\n",
       "                    genres  averagerating  numvotes  \\\n",
       "0       Action,Crime,Drama            7.1     15378   \n",
       "1  Adventure,Drama,Romance            6.1     37886   \n",
       "2                    Drama            6.0         6   \n",
       "3                    Drama            5.7       127   \n",
       "4   Adventure,Comedy,Drama            7.3    275300   \n",
       "\n",
       "                             title   studio  domestic_gross foreign_gross  \\\n",
       "0                            Wazir  Relbig.       1100000.0           NaN   \n",
       "1                      On the Road      IFC        744000.0       8000000   \n",
       "2                      On the Road      IFC        744000.0       8000000   \n",
       "3                      On the Road      IFC        744000.0       8000000   \n",
       "4  The Secret Life of Walter Mitty      Fox      58200000.0     129900000   \n",
       "\n",
       "   year new_foreign_gross  FOREIGN_GROSS  \n",
       "0  2016               NaN            NaN  \n",
       "1  2012           8000000      8000000.0  \n",
       "2  2012           8000000      8000000.0  \n",
       "3  2012           8000000      8000000.0  \n",
       "4  2013         129900000    129900000.0  "
      ]
     },
     "execution_count": 26,
     "metadata": {},
     "output_type": "execute_result"
    }
   ],
   "source": [
    "all3['new_foreign_gross'] = all3['foreign_gross'].str.replace(\",\", \"\") #removing the commas\n",
    "all3['FOREIGN_GROSS'] = all3['new_foreign_gross'].astype(float) #converting to a float\n",
    "all3.head()"
   ]
  },
  {
   "cell_type": "code",
   "execution_count": 57,
   "metadata": {},
   "outputs": [
    {
     "data": {
      "text/html": [
       "<div>\n",
       "<style scoped>\n",
       "    .dataframe tbody tr th:only-of-type {\n",
       "        vertical-align: middle;\n",
       "    }\n",
       "\n",
       "    .dataframe tbody tr th {\n",
       "        vertical-align: top;\n",
       "    }\n",
       "\n",
       "    .dataframe thead th {\n",
       "        text-align: right;\n",
       "    }\n",
       "</style>\n",
       "<table border=\"1\" class=\"dataframe\">\n",
       "  <thead>\n",
       "    <tr style=\"text-align: right;\">\n",
       "      <th></th>\n",
       "      <th>count</th>\n",
       "      <th>mean</th>\n",
       "      <th>std</th>\n",
       "      <th>min</th>\n",
       "      <th>25%</th>\n",
       "      <th>50%</th>\n",
       "      <th>75%</th>\n",
       "      <th>max</th>\n",
       "    </tr>\n",
       "    <tr>\n",
       "      <th>genres</th>\n",
       "      <th></th>\n",
       "      <th></th>\n",
       "      <th></th>\n",
       "      <th></th>\n",
       "      <th></th>\n",
       "      <th></th>\n",
       "      <th></th>\n",
       "      <th></th>\n",
       "    </tr>\n",
       "  </thead>\n",
       "  <tbody>\n",
       "    <tr>\n",
       "      <th>Adventure,Drama,Sport</th>\n",
       "      <td>1.0</td>\n",
       "      <td>8.757000e+08</td>\n",
       "      <td>NaN</td>\n",
       "      <td>875700000.0</td>\n",
       "      <td>875700000.0</td>\n",
       "      <td>875700000.0</td>\n",
       "      <td>875700000.0</td>\n",
       "      <td>875700000.0</td>\n",
       "    </tr>\n",
       "    <tr>\n",
       "      <th>Action,Comedy,Mystery</th>\n",
       "      <td>1.0</td>\n",
       "      <td>5.421000e+08</td>\n",
       "      <td>NaN</td>\n",
       "      <td>542100000.0</td>\n",
       "      <td>542100000.0</td>\n",
       "      <td>542100000.0</td>\n",
       "      <td>542100000.0</td>\n",
       "      <td>542100000.0</td>\n",
       "    </tr>\n",
       "    <tr>\n",
       "      <th>Adventure,Fantasy</th>\n",
       "      <td>3.0</td>\n",
       "      <td>5.111333e+08</td>\n",
       "      <td>3.279064e+08</td>\n",
       "      <td>132500000.0</td>\n",
       "      <td>416250000.0</td>\n",
       "      <td>700000000.0</td>\n",
       "      <td>700450000.0</td>\n",
       "      <td>700900000.0</td>\n",
       "    </tr>\n",
       "    <tr>\n",
       "      <th>Fantasy,Romance</th>\n",
       "      <td>2.0</td>\n",
       "      <td>4.585000e+08</td>\n",
       "      <td>5.900099e+08</td>\n",
       "      <td>41300000.0</td>\n",
       "      <td>249900000.0</td>\n",
       "      <td>458500000.0</td>\n",
       "      <td>667100000.0</td>\n",
       "      <td>875700000.0</td>\n",
       "    </tr>\n",
       "    <tr>\n",
       "      <th>Adventure,Drama,Sci-Fi</th>\n",
       "      <td>2.0</td>\n",
       "      <td>4.455500e+08</td>\n",
       "      <td>6.201326e+07</td>\n",
       "      <td>401700000.0</td>\n",
       "      <td>423625000.0</td>\n",
       "      <td>445550000.0</td>\n",
       "      <td>467475000.0</td>\n",
       "      <td>489400000.0</td>\n",
       "    </tr>\n",
       "    <tr>\n",
       "      <th>Documentary,Drama,Sport</th>\n",
       "      <td>1.0</td>\n",
       "      <td>4.093000e+08</td>\n",
       "      <td>NaN</td>\n",
       "      <td>409300000.0</td>\n",
       "      <td>409300000.0</td>\n",
       "      <td>409300000.0</td>\n",
       "      <td>409300000.0</td>\n",
       "      <td>409300000.0</td>\n",
       "    </tr>\n",
       "    <tr>\n",
       "      <th>Sci-Fi</th>\n",
       "      <td>1.0</td>\n",
       "      <td>4.093000e+08</td>\n",
       "      <td>NaN</td>\n",
       "      <td>409300000.0</td>\n",
       "      <td>409300000.0</td>\n",
       "      <td>409300000.0</td>\n",
       "      <td>409300000.0</td>\n",
       "      <td>409300000.0</td>\n",
       "    </tr>\n",
       "    <tr>\n",
       "      <th>Action,Adventure,Sci-Fi</th>\n",
       "      <td>46.0</td>\n",
       "      <td>3.611174e+08</td>\n",
       "      <td>2.478971e+08</td>\n",
       "      <td>1019.4</td>\n",
       "      <td>194700000.0</td>\n",
       "      <td>310350000.0</td>\n",
       "      <td>503550000.0</td>\n",
       "      <td>946400000.0</td>\n",
       "    </tr>\n",
       "    <tr>\n",
       "      <th>Comedy,Mystery</th>\n",
       "      <td>1.0</td>\n",
       "      <td>3.323000e+08</td>\n",
       "      <td>NaN</td>\n",
       "      <td>332300000.0</td>\n",
       "      <td>332300000.0</td>\n",
       "      <td>332300000.0</td>\n",
       "      <td>332300000.0</td>\n",
       "      <td>332300000.0</td>\n",
       "    </tr>\n",
       "    <tr>\n",
       "      <th>Action,Adventure,Thriller</th>\n",
       "      <td>16.0</td>\n",
       "      <td>2.967688e+08</td>\n",
       "      <td>2.331446e+08</td>\n",
       "      <td>30200000.0</td>\n",
       "      <td>148300000.0</td>\n",
       "      <td>213550000.0</td>\n",
       "      <td>485900000.0</td>\n",
       "      <td>804200000.0</td>\n",
       "    </tr>\n",
       "  </tbody>\n",
       "</table>\n",
       "</div>"
      ],
      "text/plain": [
       "                           count          mean           std          min  \\\n",
       "genres                                                                      \n",
       "Adventure,Drama,Sport        1.0  8.757000e+08           NaN  875700000.0   \n",
       "Action,Comedy,Mystery        1.0  5.421000e+08           NaN  542100000.0   \n",
       "Adventure,Fantasy            3.0  5.111333e+08  3.279064e+08  132500000.0   \n",
       "Fantasy,Romance              2.0  4.585000e+08  5.900099e+08   41300000.0   \n",
       "Adventure,Drama,Sci-Fi       2.0  4.455500e+08  6.201326e+07  401700000.0   \n",
       "Documentary,Drama,Sport      1.0  4.093000e+08           NaN  409300000.0   \n",
       "Sci-Fi                       1.0  4.093000e+08           NaN  409300000.0   \n",
       "Action,Adventure,Sci-Fi     46.0  3.611174e+08  2.478971e+08       1019.4   \n",
       "Comedy,Mystery               1.0  3.323000e+08           NaN  332300000.0   \n",
       "Action,Adventure,Thriller   16.0  2.967688e+08  2.331446e+08   30200000.0   \n",
       "\n",
       "                                   25%          50%          75%          max  \n",
       "genres                                                                         \n",
       "Adventure,Drama,Sport      875700000.0  875700000.0  875700000.0  875700000.0  \n",
       "Action,Comedy,Mystery      542100000.0  542100000.0  542100000.0  542100000.0  \n",
       "Adventure,Fantasy          416250000.0  700000000.0  700450000.0  700900000.0  \n",
       "Fantasy,Romance            249900000.0  458500000.0  667100000.0  875700000.0  \n",
       "Adventure,Drama,Sci-Fi     423625000.0  445550000.0  467475000.0  489400000.0  \n",
       "Documentary,Drama,Sport    409300000.0  409300000.0  409300000.0  409300000.0  \n",
       "Sci-Fi                     409300000.0  409300000.0  409300000.0  409300000.0  \n",
       "Action,Adventure,Sci-Fi    194700000.0  310350000.0  503550000.0  946400000.0  \n",
       "Comedy,Mystery             332300000.0  332300000.0  332300000.0  332300000.0  \n",
       "Action,Adventure,Thriller  148300000.0  213550000.0  485900000.0  804200000.0  "
      ]
     },
     "execution_count": 57,
     "metadata": {},
     "output_type": "execute_result"
    }
   ],
   "source": [
    "sorted_all3 = all3.groupby('genres')['FOREIGN_GROSS'].describe().sort_values(by = 'mean', ascending = False)\n",
    "sorted_all3.head(10)\n",
    "#working correctly now"
   ]
  },
  {
   "cell_type": "markdown",
   "metadata": {},
   "source": [
    "**Checking domestic gross**"
   ]
  },
  {
   "cell_type": "code",
   "execution_count": 71,
   "metadata": {},
   "outputs": [
    {
     "data": {
      "image/png": "[encoded data removed]",
      "text/plain": [
       "<Figure size 432x288 with 6 Axes>"
      ]
     },
     "metadata": {
      "needs_background": "light"
     },
     "output_type": "display_data"
    }
   ],
   "source": [
    "merged_genres['domestic_gross'].hist(xlabelsize = 0.1, by=merged_genres['genres']);"
   ]
  },
  {
   "cell_type": "code",
   "execution_count": 55,
   "metadata": {},
   "outputs": [
    {
     "data": {
      "text/html": [
       "<div>\n",
       "<style scoped>\n",
       "    .dataframe tbody tr th:only-of-type {\n",
       "        vertical-align: middle;\n",
       "    }\n",
       "\n",
       "    .dataframe tbody tr th {\n",
       "        vertical-align: top;\n",
       "    }\n",
       "\n",
       "    .dataframe thead th {\n",
       "        text-align: right;\n",
       "    }\n",
       "</style>\n",
       "<table border=\"1\" class=\"dataframe\">\n",
       "  <thead>\n",
       "    <tr style=\"text-align: right;\">\n",
       "      <th></th>\n",
       "      <th>count</th>\n",
       "      <th>mean</th>\n",
       "      <th>std</th>\n",
       "      <th>min</th>\n",
       "      <th>25%</th>\n",
       "      <th>50%</th>\n",
       "      <th>75%</th>\n",
       "      <th>max</th>\n",
       "    </tr>\n",
       "    <tr>\n",
       "      <th>genres</th>\n",
       "      <th></th>\n",
       "      <th></th>\n",
       "      <th></th>\n",
       "      <th></th>\n",
       "      <th></th>\n",
       "      <th></th>\n",
       "      <th></th>\n",
       "      <th></th>\n",
       "    </tr>\n",
       "  </thead>\n",
       "  <tbody>\n",
       "    <tr>\n",
       "      <th>Adventure,Drama,Sport</th>\n",
       "      <td>1.0</td>\n",
       "      <td>4.007000e+08</td>\n",
       "      <td>NaN</td>\n",
       "      <td>400700000.0</td>\n",
       "      <td>400700000.0</td>\n",
       "      <td>400700000.0</td>\n",
       "      <td>400700000.0</td>\n",
       "      <td>400700000.0</td>\n",
       "    </tr>\n",
       "    <tr>\n",
       "      <th>Action,Adventure,Sci-Fi</th>\n",
       "      <td>47.0</td>\n",
       "      <td>2.345681e+08</td>\n",
       "      <td>1.780518e+08</td>\n",
       "      <td>2200000.0</td>\n",
       "      <td>102450000.0</td>\n",
       "      <td>176700000.0</td>\n",
       "      <td>335650000.0</td>\n",
       "      <td>700100000.0</td>\n",
       "    </tr>\n",
       "    <tr>\n",
       "      <th>Adventure,Drama,Sci-Fi</th>\n",
       "      <td>2.0</td>\n",
       "      <td>2.082000e+08</td>\n",
       "      <td>2.856711e+07</td>\n",
       "      <td>188000000.0</td>\n",
       "      <td>198100000.0</td>\n",
       "      <td>208200000.0</td>\n",
       "      <td>218300000.0</td>\n",
       "      <td>228400000.0</td>\n",
       "    </tr>\n",
       "    <tr>\n",
       "      <th>Documentary,Drama,Sport</th>\n",
       "      <td>2.0</td>\n",
       "      <td>2.067250e+08</td>\n",
       "      <td>2.911512e+08</td>\n",
       "      <td>850000.0</td>\n",
       "      <td>103787500.0</td>\n",
       "      <td>206725000.0</td>\n",
       "      <td>309662500.0</td>\n",
       "      <td>412600000.0</td>\n",
       "    </tr>\n",
       "    <tr>\n",
       "      <th>Sci-Fi</th>\n",
       "      <td>2.0</td>\n",
       "      <td>2.063390e+08</td>\n",
       "      <td>2.916971e+08</td>\n",
       "      <td>78000.0</td>\n",
       "      <td>103208500.0</td>\n",
       "      <td>206339000.0</td>\n",
       "      <td>309469500.0</td>\n",
       "      <td>412600000.0</td>\n",
       "    </tr>\n",
       "    <tr>\n",
       "      <th>Fantasy,Romance</th>\n",
       "      <td>2.0</td>\n",
       "      <td>2.005215e+08</td>\n",
       "      <td>2.830951e+08</td>\n",
       "      <td>343000.0</td>\n",
       "      <td>100432250.0</td>\n",
       "      <td>200521500.0</td>\n",
       "      <td>300610750.0</td>\n",
       "      <td>400700000.0</td>\n",
       "    </tr>\n",
       "    <tr>\n",
       "      <th>Adventure,Fantasy</th>\n",
       "      <td>3.0</td>\n",
       "      <td>1.929000e+08</td>\n",
       "      <td>1.106038e+08</td>\n",
       "      <td>65200000.0</td>\n",
       "      <td>160150000.0</td>\n",
       "      <td>255100000.0</td>\n",
       "      <td>256749999.5</td>\n",
       "      <td>258399999.0</td>\n",
       "    </tr>\n",
       "    <tr>\n",
       "      <th>Biography,Drama,Musical</th>\n",
       "      <td>1.0</td>\n",
       "      <td>1.743000e+08</td>\n",
       "      <td>NaN</td>\n",
       "      <td>174300000.0</td>\n",
       "      <td>174300000.0</td>\n",
       "      <td>174300000.0</td>\n",
       "      <td>174300000.0</td>\n",
       "      <td>174300000.0</td>\n",
       "    </tr>\n",
       "    <tr>\n",
       "      <th>Action,Adventure,Mystery</th>\n",
       "      <td>1.0</td>\n",
       "      <td>1.509000e+08</td>\n",
       "      <td>NaN</td>\n",
       "      <td>150900000.0</td>\n",
       "      <td>150900000.0</td>\n",
       "      <td>150900000.0</td>\n",
       "      <td>150900000.0</td>\n",
       "      <td>150900000.0</td>\n",
       "    </tr>\n",
       "    <tr>\n",
       "      <th>Action,Adventure,Fantasy</th>\n",
       "      <td>31.0</td>\n",
       "      <td>1.412512e+08</td>\n",
       "      <td>1.465946e+08</td>\n",
       "      <td>187000.0</td>\n",
       "      <td>30800000.0</td>\n",
       "      <td>61700000.0</td>\n",
       "      <td>221400000.0</td>\n",
       "      <td>620200000.0</td>\n",
       "    </tr>\n",
       "  </tbody>\n",
       "</table>\n",
       "</div>"
      ],
      "text/plain": [
       "                          count          mean           std          min  \\\n",
       "genres                                                                     \n",
       "Adventure,Drama,Sport       1.0  4.007000e+08           NaN  400700000.0   \n",
       "Action,Adventure,Sci-Fi    47.0  2.345681e+08  1.780518e+08    2200000.0   \n",
       "Adventure,Drama,Sci-Fi      2.0  2.082000e+08  2.856711e+07  188000000.0   \n",
       "Documentary,Drama,Sport     2.0  2.067250e+08  2.911512e+08     850000.0   \n",
       "Sci-Fi                      2.0  2.063390e+08  2.916971e+08      78000.0   \n",
       "Fantasy,Romance             2.0  2.005215e+08  2.830951e+08     343000.0   \n",
       "Adventure,Fantasy           3.0  1.929000e+08  1.106038e+08   65200000.0   \n",
       "Biography,Drama,Musical     1.0  1.743000e+08           NaN  174300000.0   \n",
       "Action,Adventure,Mystery    1.0  1.509000e+08           NaN  150900000.0   \n",
       "Action,Adventure,Fantasy   31.0  1.412512e+08  1.465946e+08     187000.0   \n",
       "\n",
       "                                  25%          50%          75%          max  \n",
       "genres                                                                        \n",
       "Adventure,Drama,Sport     400700000.0  400700000.0  400700000.0  400700000.0  \n",
       "Action,Adventure,Sci-Fi   102450000.0  176700000.0  335650000.0  700100000.0  \n",
       "Adventure,Drama,Sci-Fi    198100000.0  208200000.0  218300000.0  228400000.0  \n",
       "Documentary,Drama,Sport   103787500.0  206725000.0  309662500.0  412600000.0  \n",
       "Sci-Fi                    103208500.0  206339000.0  309469500.0  412600000.0  \n",
       "Fantasy,Romance           100432250.0  200521500.0  300610750.0  400700000.0  \n",
       "Adventure,Fantasy         160150000.0  255100000.0  256749999.5  258399999.0  \n",
       "Biography,Drama,Musical   174300000.0  174300000.0  174300000.0  174300000.0  \n",
       "Action,Adventure,Mystery  150900000.0  150900000.0  150900000.0  150900000.0  \n",
       "Action,Adventure,Fantasy   30800000.0   61700000.0  221400000.0  620200000.0  "
      ]
     },
     "execution_count": 55,
     "metadata": {},
     "output_type": "execute_result"
    }
   ],
   "source": [
    "sorted_all3 = all3.groupby('genres')['domestic_gross'].describe().sort_values(by = 'mean', ascending = False)\n",
    "sorted_all3.head(10)"
   ]
  },
  {
   "cell_type": "code",
   "execution_count": 56,
   "metadata": {},
   "outputs": [
    {
     "data": {
      "text/html": [
       "<div>\n",
       "<style scoped>\n",
       "    .dataframe tbody tr th:only-of-type {\n",
       "        vertical-align: middle;\n",
       "    }\n",
       "\n",
       "    .dataframe tbody tr th {\n",
       "        vertical-align: top;\n",
       "    }\n",
       "\n",
       "    .dataframe thead th {\n",
       "        text-align: right;\n",
       "    }\n",
       "</style>\n",
       "<table border=\"1\" class=\"dataframe\">\n",
       "  <thead>\n",
       "    <tr style=\"text-align: right;\">\n",
       "      <th></th>\n",
       "      <th>count</th>\n",
       "      <th>mean</th>\n",
       "      <th>std</th>\n",
       "      <th>min</th>\n",
       "      <th>25%</th>\n",
       "      <th>50%</th>\n",
       "      <th>75%</th>\n",
       "      <th>max</th>\n",
       "    </tr>\n",
       "    <tr>\n",
       "      <th>genres</th>\n",
       "      <th></th>\n",
       "      <th></th>\n",
       "      <th></th>\n",
       "      <th></th>\n",
       "      <th></th>\n",
       "      <th></th>\n",
       "      <th></th>\n",
       "      <th></th>\n",
       "    </tr>\n",
       "  </thead>\n",
       "  <tbody>\n",
       "    <tr>\n",
       "      <th>Adventure</th>\n",
       "      <td>1.0</td>\n",
       "      <td>9.2</td>\n",
       "      <td>NaN</td>\n",
       "      <td>9.2</td>\n",
       "      <td>9.20</td>\n",
       "      <td>9.2</td>\n",
       "      <td>9.20</td>\n",
       "      <td>9.2</td>\n",
       "    </tr>\n",
       "    <tr>\n",
       "      <th>Action,Sport</th>\n",
       "      <td>1.0</td>\n",
       "      <td>8.4</td>\n",
       "      <td>NaN</td>\n",
       "      <td>8.4</td>\n",
       "      <td>8.40</td>\n",
       "      <td>8.4</td>\n",
       "      <td>8.40</td>\n",
       "      <td>8.4</td>\n",
       "    </tr>\n",
       "    <tr>\n",
       "      <th>Biography,Documentary,Family</th>\n",
       "      <td>1.0</td>\n",
       "      <td>8.3</td>\n",
       "      <td>NaN</td>\n",
       "      <td>8.3</td>\n",
       "      <td>8.30</td>\n",
       "      <td>8.3</td>\n",
       "      <td>8.30</td>\n",
       "      <td>8.3</td>\n",
       "    </tr>\n",
       "    <tr>\n",
       "      <th>Adventure,Drama,Sci-Fi</th>\n",
       "      <td>2.0</td>\n",
       "      <td>8.3</td>\n",
       "      <td>0.424264</td>\n",
       "      <td>8.0</td>\n",
       "      <td>8.15</td>\n",
       "      <td>8.3</td>\n",
       "      <td>8.45</td>\n",
       "      <td>8.6</td>\n",
       "    </tr>\n",
       "    <tr>\n",
       "      <th>Animation,Drama,Romance</th>\n",
       "      <td>1.0</td>\n",
       "      <td>8.2</td>\n",
       "      <td>NaN</td>\n",
       "      <td>8.2</td>\n",
       "      <td>8.20</td>\n",
       "      <td>8.2</td>\n",
       "      <td>8.20</td>\n",
       "      <td>8.2</td>\n",
       "    </tr>\n",
       "    <tr>\n",
       "      <th>Comedy,Documentary,Drama</th>\n",
       "      <td>2.0</td>\n",
       "      <td>8.2</td>\n",
       "      <td>0.989949</td>\n",
       "      <td>7.5</td>\n",
       "      <td>7.85</td>\n",
       "      <td>8.2</td>\n",
       "      <td>8.55</td>\n",
       "      <td>8.9</td>\n",
       "    </tr>\n",
       "    <tr>\n",
       "      <th>Documentary,Sport</th>\n",
       "      <td>1.0</td>\n",
       "      <td>8.2</td>\n",
       "      <td>NaN</td>\n",
       "      <td>8.2</td>\n",
       "      <td>8.20</td>\n",
       "      <td>8.2</td>\n",
       "      <td>8.20</td>\n",
       "      <td>8.2</td>\n",
       "    </tr>\n",
       "    <tr>\n",
       "      <th>Biography,Documentary,Thriller</th>\n",
       "      <td>1.0</td>\n",
       "      <td>8.1</td>\n",
       "      <td>NaN</td>\n",
       "      <td>8.1</td>\n",
       "      <td>8.10</td>\n",
       "      <td>8.1</td>\n",
       "      <td>8.10</td>\n",
       "      <td>8.1</td>\n",
       "    </tr>\n",
       "    <tr>\n",
       "      <th>Comedy,Drama,Thriller</th>\n",
       "      <td>1.0</td>\n",
       "      <td>8.1</td>\n",
       "      <td>NaN</td>\n",
       "      <td>8.1</td>\n",
       "      <td>8.10</td>\n",
       "      <td>8.1</td>\n",
       "      <td>8.10</td>\n",
       "      <td>8.1</td>\n",
       "    </tr>\n",
       "    <tr>\n",
       "      <th>Documentary,Drama,History</th>\n",
       "      <td>1.0</td>\n",
       "      <td>8.1</td>\n",
       "      <td>NaN</td>\n",
       "      <td>8.1</td>\n",
       "      <td>8.10</td>\n",
       "      <td>8.1</td>\n",
       "      <td>8.10</td>\n",
       "      <td>8.1</td>\n",
       "    </tr>\n",
       "  </tbody>\n",
       "</table>\n",
       "</div>"
      ],
      "text/plain": [
       "                                count  mean       std  min   25%  50%   75%  \\\n",
       "genres                                                                        \n",
       "Adventure                         1.0   9.2       NaN  9.2  9.20  9.2  9.20   \n",
       "Action,Sport                      1.0   8.4       NaN  8.4  8.40  8.4  8.40   \n",
       "Biography,Documentary,Family      1.0   8.3       NaN  8.3  8.30  8.3  8.30   \n",
       "Adventure,Drama,Sci-Fi            2.0   8.3  0.424264  8.0  8.15  8.3  8.45   \n",
       "Animation,Drama,Romance           1.0   8.2       NaN  8.2  8.20  8.2  8.20   \n",
       "Comedy,Documentary,Drama          2.0   8.2  0.989949  7.5  7.85  8.2  8.55   \n",
       "Documentary,Sport                 1.0   8.2       NaN  8.2  8.20  8.2  8.20   \n",
       "Biography,Documentary,Thriller    1.0   8.1       NaN  8.1  8.10  8.1  8.10   \n",
       "Comedy,Drama,Thriller             1.0   8.1       NaN  8.1  8.10  8.1  8.10   \n",
       "Documentary,Drama,History         1.0   8.1       NaN  8.1  8.10  8.1  8.10   \n",
       "\n",
       "                                max  \n",
       "genres                               \n",
       "Adventure                       9.2  \n",
       "Action,Sport                    8.4  \n",
       "Biography,Documentary,Family    8.3  \n",
       "Adventure,Drama,Sci-Fi          8.6  \n",
       "Animation,Drama,Romance         8.2  \n",
       "Comedy,Documentary,Drama        8.9  \n",
       "Documentary,Sport               8.2  \n",
       "Biography,Documentary,Thriller  8.1  \n",
       "Comedy,Drama,Thriller           8.1  \n",
       "Documentary,Drama,History       8.1  "
      ]
     },
     "execution_count": 56,
     "metadata": {},
     "output_type": "execute_result"
    }
   ],
   "source": [
    "averagerating_df = all3.groupby('genres')['averagerating'].describe().sort_values(by = 'mean', ascending = False)\n",
    "averagerating_df.head(10) #finding the average rating for the top 5 movie genres"
   ]
  },
  {
   "cell_type": "code",
   "execution_count": 75,
   "metadata": {},
   "outputs": [
    {
     "data": {
      "image/png": "[encoded data removed]",
      "text/plain": [
       "<Figure size 432x288 with 6 Axes>"
      ]
     },
     "metadata": {
      "needs_background": "light"
     },
     "output_type": "display_data"
    }
   ],
   "source": [
    "merged_genres['averagerating'].hist(by=merged_genres['genres']);"
   ]
  },
  {
   "cell_type": "code",
   "execution_count": 21,
   "metadata": {},
   "outputs": [
    {
     "data": {
      "image/png": "[encoded data removed]",
      "text/plain": [
       "<Figure size 432x288 with 1 Axes>"
      ]
     },
     "metadata": {
      "needs_background": "light"
     },
     "output_type": "display_data"
    }
   ],
   "source": [
    "#seeing if run time has anything to do with rating, domestic and foreign gross\n",
    "plt.plot(all3['runtime_minutes'],all3['averagerating'], 'o', color='black');\n",
    "#average rating"
   ]
  },
  {
   "cell_type": "code",
   "execution_count": 27,
   "metadata": {},
   "outputs": [
    {
     "data": {
      "image/png": "[encoded data removed]",
      "text/plain": [
       "<Figure size 432x288 with 1 Axes>"
      ]
     },
     "metadata": {
      "needs_background": "light"
     },
     "output_type": "display_data"
    }
   ],
   "source": [
    "plt.plot(all3['runtime_minutes'],all3['FOREIGN_GROSS'], 'o', color='black');\n",
    "#foreign gross"
   ]
  },
  {
   "cell_type": "code",
   "execution_count": 23,
   "metadata": {},
   "outputs": [
    {
     "data": {
      "image/png": "[encoded data removed]",
      "text/plain": [
       "<Figure size 432x288 with 1 Axes>"
      ]
     },
     "metadata": {
      "needs_background": "light"
     },
     "output_type": "display_data"
    }
   ],
   "source": [
    "plt.plot(all3['runtime_minutes'],all3['domestic_gross'], 'o', color='black');\n",
    "#domestic gross"
   ]
  },
  {
   "cell_type": "markdown",
   "metadata": {},
   "source": [
    "**Run time does not appear to correlate with average rating, domestic, or foreign gross**"
   ]
  },
  {
   "cell_type": "code",
   "execution_count": 28,
   "metadata": {},
   "outputs": [
    {
     "data": {
      "text/html": [
       "<div>\n",
       "<style scoped>\n",
       "    .dataframe tbody tr th:only-of-type {\n",
       "        vertical-align: middle;\n",
       "    }\n",
       "\n",
       "    .dataframe tbody tr th {\n",
       "        vertical-align: top;\n",
       "    }\n",
       "\n",
       "    .dataframe thead th {\n",
       "        text-align: right;\n",
       "    }\n",
       "</style>\n",
       "<table border=\"1\" class=\"dataframe\">\n",
       "  <thead>\n",
       "    <tr style=\"text-align: right;\">\n",
       "      <th></th>\n",
       "      <th>averagerating</th>\n",
       "      <th>runtime_minutes</th>\n",
       "    </tr>\n",
       "  </thead>\n",
       "  <tbody>\n",
       "    <tr>\n",
       "      <th>averagerating</th>\n",
       "      <td>1.000000</td>\n",
       "      <td>0.151125</td>\n",
       "    </tr>\n",
       "    <tr>\n",
       "      <th>runtime_minutes</th>\n",
       "      <td>0.151125</td>\n",
       "      <td>1.000000</td>\n",
       "    </tr>\n",
       "  </tbody>\n",
       "</table>\n",
       "</div>"
      ],
      "text/plain": [
       "                 averagerating  runtime_minutes\n",
       "averagerating         1.000000         0.151125\n",
       "runtime_minutes       0.151125         1.000000"
      ]
     },
     "execution_count": 28,
     "metadata": {},
     "output_type": "execute_result"
    }
   ],
   "source": [
    "all3[['averagerating','runtime_minutes']].corr()"
   ]
  },
  {
   "cell_type": "code",
   "execution_count": 29,
   "metadata": {},
   "outputs": [
    {
     "data": {
      "text/html": [
       "<div>\n",
       "<style scoped>\n",
       "    .dataframe tbody tr th:only-of-type {\n",
       "        vertical-align: middle;\n",
       "    }\n",
       "\n",
       "    .dataframe tbody tr th {\n",
       "        vertical-align: top;\n",
       "    }\n",
       "\n",
       "    .dataframe thead th {\n",
       "        text-align: right;\n",
       "    }\n",
       "</style>\n",
       "<table border=\"1\" class=\"dataframe\">\n",
       "  <thead>\n",
       "    <tr style=\"text-align: right;\">\n",
       "      <th></th>\n",
       "      <th>runtime_minutes</th>\n",
       "      <th>FOREIGN_GROSS</th>\n",
       "    </tr>\n",
       "  </thead>\n",
       "  <tbody>\n",
       "    <tr>\n",
       "      <th>runtime_minutes</th>\n",
       "      <td>1.00000</td>\n",
       "      <td>0.19331</td>\n",
       "    </tr>\n",
       "    <tr>\n",
       "      <th>FOREIGN_GROSS</th>\n",
       "      <td>0.19331</td>\n",
       "      <td>1.00000</td>\n",
       "    </tr>\n",
       "  </tbody>\n",
       "</table>\n",
       "</div>"
      ],
      "text/plain": [
       "                 runtime_minutes  FOREIGN_GROSS\n",
       "runtime_minutes          1.00000        0.19331\n",
       "FOREIGN_GROSS            0.19331        1.00000"
      ]
     },
     "execution_count": 29,
     "metadata": {},
     "output_type": "execute_result"
    }
   ],
   "source": [
    "all3[['runtime_minutes','FOREIGN_GROSS']].corr()"
   ]
  },
  {
   "cell_type": "code",
   "execution_count": 30,
   "metadata": {},
   "outputs": [
    {
     "data": {
      "text/html": [
       "<div>\n",
       "<style scoped>\n",
       "    .dataframe tbody tr th:only-of-type {\n",
       "        vertical-align: middle;\n",
       "    }\n",
       "\n",
       "    .dataframe tbody tr th {\n",
       "        vertical-align: top;\n",
       "    }\n",
       "\n",
       "    .dataframe thead th {\n",
       "        text-align: right;\n",
       "    }\n",
       "</style>\n",
       "<table border=\"1\" class=\"dataframe\">\n",
       "  <thead>\n",
       "    <tr style=\"text-align: right;\">\n",
       "      <th></th>\n",
       "      <th>runtime_minutes</th>\n",
       "      <th>domestic_gross</th>\n",
       "    </tr>\n",
       "  </thead>\n",
       "  <tbody>\n",
       "    <tr>\n",
       "      <th>runtime_minutes</th>\n",
       "      <td>1.000000</td>\n",
       "      <td>0.126917</td>\n",
       "    </tr>\n",
       "    <tr>\n",
       "      <th>domestic_gross</th>\n",
       "      <td>0.126917</td>\n",
       "      <td>1.000000</td>\n",
       "    </tr>\n",
       "  </tbody>\n",
       "</table>\n",
       "</div>"
      ],
      "text/plain": [
       "                 runtime_minutes  domestic_gross\n",
       "runtime_minutes         1.000000        0.126917\n",
       "domestic_gross          0.126917        1.000000"
      ]
     },
     "execution_count": 30,
     "metadata": {},
     "output_type": "execute_result"
    }
   ],
   "source": [
    "all3[['runtime_minutes', 'domestic_gross']].corr()"
   ]
  },
  {
   "cell_type": "code",
   "execution_count": 35,
   "metadata": {},
   "outputs": [],
   "source": [
    "medianrating_df = all3.groupby('genres')['averagerating'].describe().sort_values(by = '50%', ascending = False).reset_index()\n",
    "medianrating_df1 = medianrating_df.head(10)"
   ]
  },
  {
   "cell_type": "code",
   "execution_count": 36,
   "metadata": {},
   "outputs": [
    {
     "data": {
      "image/png": "[encoded data removed]",
      "text/plain": [
       "<Figure size 432x288 with 1 Axes>"
      ]
     },
     "metadata": {
      "needs_background": "light"
     },
     "output_type": "display_data"
    }
   ],
   "source": [
    "plt.bar(medianrating_df1['genres'], medianrating_df1['50%'], align='center', alpha=0.5)\n",
    "plt.xticks(rotation = 70)\n",
    "plt.title('Median of Top Ten Genres and Their Average Ratings')\n",
    "plt.ylabel('Average Ratings')\n",
    "plt.show()"
   ]
  },
  {
   "cell_type": "code",
   "execution_count": 31,
   "metadata": {},
   "outputs": [],
   "source": [
    "mediandomestic_df = all3.groupby('genres')['domestic_gross'].describe().sort_values(by = '50%', ascending = False).reset_index()\n",
    "mediandomestic_df1 = mediandomestic_df.head(10)"
   ]
  },
  {
   "cell_type": "code",
   "execution_count": 32,
   "metadata": {},
   "outputs": [
    {
     "data": {
      "image/png": "[encoded data removed]",
      "text/plain": [
       "<Figure size 432x288 with 1 Axes>"
      ]
     },
     "metadata": {
      "needs_background": "light"
     },
     "output_type": "display_data"
    }
   ],
   "source": [
    "plt.bar(mediandomestic_df1['genres'], mediandomestic_df1['50%'], align='center', alpha=0.5)\n",
    "plt.xticks(rotation = 70)\n",
    "plt.title('Median of Top Ten Genres and Their Domestic Gross Revenue')\n",
    "plt.ylabel('Domestic Gross Revenue')\n",
    "plt.show()"
   ]
  },
  {
   "cell_type": "code",
   "execution_count": 33,
   "metadata": {},
   "outputs": [],
   "source": [
    "medianforeign_df = all3.groupby('genres')['FOREIGN_GROSS'].describe().sort_values(by = '50%', ascending = False).reset_index()\n",
    "medianforeign_df1 = medianforeign_df.head(10)"
   ]
  },
  {
   "cell_type": "code",
   "execution_count": 37,
   "metadata": {},
   "outputs": [
    {
     "data": {
      "image/png": "[encoded data removed]",
      "text/plain": [
       "<Figure size 432x288 with 1 Axes>"
      ]
     },
     "metadata": {
      "needs_background": "light"
     },
     "output_type": "display_data"
    }
   ],
   "source": [
    "plt.bar(medianforeign_df1['genres'], medianforeign_df1['50%'], align='center', alpha=0.5)\n",
    "plt.xticks(rotation = 70)\n",
    "plt.title('Median of Top Ten Genres and Their Foreign Gross Revenue')\n",
    "plt.ylabel('Foreign Gross Revenue')\n",
    "plt.show()"
   ]
  },
  {
   "cell_type": "markdown",
   "metadata": {},
   "source": [
    "**Accounting for Number of Votes**"
   ]
  },
  {
   "cell_type": "code",
   "execution_count": 38,
   "metadata": {},
   "outputs": [
    {
     "data": {
      "text/plain": [
       "count    3.027000e+03\n",
       "mean     6.170030e+04\n",
       "std      1.255132e+05\n",
       "min      5.000000e+00\n",
       "25%      2.117000e+03\n",
       "50%      1.310900e+04\n",
       "75%      6.276550e+04\n",
       "max      1.841066e+06\n",
       "Name: numvotes, dtype: float64"
      ]
     },
     "execution_count": 38,
     "metadata": {},
     "output_type": "execute_result"
    }
   ],
   "source": [
    "all3['numvotes'].describe()"
   ]
  },
  {
   "cell_type": "code",
   "execution_count": 39,
   "metadata": {},
   "outputs": [
    {
     "data": {
      "text/plain": [
       "count    2.461000e+03\n",
       "mean     7.582984e+04\n",
       "std      1.353144e+05\n",
       "min      1.004000e+03\n",
       "25%      6.554000e+03\n",
       "50%      2.392300e+04\n",
       "75%      8.320000e+04\n",
       "max      1.841066e+06\n",
       "Name: numvotes, dtype: float64"
      ]
     },
     "execution_count": 39,
     "metadata": {},
     "output_type": "execute_result"
    }
   ],
   "source": [
    "all3_filter = all3[all3['numvotes']>=1000]\n",
    "all3_filter['numvotes'].describe()"
   ]
  },
  {
   "cell_type": "code",
   "execution_count": 106,
   "metadata": {},
   "outputs": [
    {
     "data": {
      "image/png": "[encoded data removed]",
      "text/plain": [
       "<Figure size 864x432 with 1 Axes>"
      ]
     },
     "metadata": {
      "needs_background": "light"
     },
     "output_type": "display_data"
    }
   ],
   "source": [
    "fig, ax = plt.subplots(figsize = (12,6))\n",
    "all3_filter['numvotes'].hist(ax=ax);\n"
   ]
  },
  {
   "cell_type": "code",
   "execution_count": 105,
   "metadata": {},
   "outputs": [
    {
     "data": {
      "image/png": "[encoded data removed]",
      "text/plain": [
       "<Figure size 720x504 with 1 Axes>"
      ]
     },
     "metadata": {
      "needs_background": "light"
     },
     "output_type": "display_data"
    }
   ],
   "source": [
    "fig = plt.figure(figsize =(10, 7))\n",
    " \n",
    "\n",
    "plt.boxplot(all3_filter['numvotes'])\n",
    " \n",
    "\n",
    "plt.show()"
   ]
  },
  {
   "cell_type": "markdown",
   "metadata": {},
   "source": [
    "**Does the number of votes correlate with any of the 3 variables?**"
   ]
  },
  {
   "cell_type": "code",
   "execution_count": 108,
   "metadata": {},
   "outputs": [
    {
     "data": {
      "text/html": [
       "<div>\n",
       "<style scoped>\n",
       "    .dataframe tbody tr th:only-of-type {\n",
       "        vertical-align: middle;\n",
       "    }\n",
       "\n",
       "    .dataframe tbody tr th {\n",
       "        vertical-align: top;\n",
       "    }\n",
       "\n",
       "    .dataframe thead th {\n",
       "        text-align: right;\n",
       "    }\n",
       "</style>\n",
       "<table border=\"1\" class=\"dataframe\">\n",
       "  <thead>\n",
       "    <tr style=\"text-align: right;\">\n",
       "      <th></th>\n",
       "      <th>numvotes</th>\n",
       "      <th>domestic_gross</th>\n",
       "    </tr>\n",
       "  </thead>\n",
       "  <tbody>\n",
       "    <tr>\n",
       "      <th>numvotes</th>\n",
       "      <td>1.000000</td>\n",
       "      <td>0.664384</td>\n",
       "    </tr>\n",
       "    <tr>\n",
       "      <th>domestic_gross</th>\n",
       "      <td>0.664384</td>\n",
       "      <td>1.000000</td>\n",
       "    </tr>\n",
       "  </tbody>\n",
       "</table>\n",
       "</div>"
      ],
      "text/plain": [
       "                numvotes  domestic_gross\n",
       "numvotes        1.000000        0.664384\n",
       "domestic_gross  0.664384        1.000000"
      ]
     },
     "execution_count": 108,
     "metadata": {},
     "output_type": "execute_result"
    }
   ],
   "source": [
    "all3[['numvotes', 'domestic_gross']].corr()"
   ]
  },
  {
   "cell_type": "code",
   "execution_count": 109,
   "metadata": {},
   "outputs": [
    {
     "data": {
      "text/html": [
       "<div>\n",
       "<style scoped>\n",
       "    .dataframe tbody tr th:only-of-type {\n",
       "        vertical-align: middle;\n",
       "    }\n",
       "\n",
       "    .dataframe tbody tr th {\n",
       "        vertical-align: top;\n",
       "    }\n",
       "\n",
       "    .dataframe thead th {\n",
       "        text-align: right;\n",
       "    }\n",
       "</style>\n",
       "<table border=\"1\" class=\"dataframe\">\n",
       "  <thead>\n",
       "    <tr style=\"text-align: right;\">\n",
       "      <th></th>\n",
       "      <th>numvotes</th>\n",
       "      <th>FOREIGN_GROSS</th>\n",
       "    </tr>\n",
       "  </thead>\n",
       "  <tbody>\n",
       "    <tr>\n",
       "      <th>numvotes</th>\n",
       "      <td>1.000000</td>\n",
       "      <td>0.552706</td>\n",
       "    </tr>\n",
       "    <tr>\n",
       "      <th>FOREIGN_GROSS</th>\n",
       "      <td>0.552706</td>\n",
       "      <td>1.000000</td>\n",
       "    </tr>\n",
       "  </tbody>\n",
       "</table>\n",
       "</div>"
      ],
      "text/plain": [
       "               numvotes  FOREIGN_GROSS\n",
       "numvotes       1.000000       0.552706\n",
       "FOREIGN_GROSS  0.552706       1.000000"
      ]
     },
     "execution_count": 109,
     "metadata": {},
     "output_type": "execute_result"
    }
   ],
   "source": [
    "all3[['numvotes', 'FOREIGN_GROSS']].corr()"
   ]
  },
  {
   "cell_type": "code",
   "execution_count": 110,
   "metadata": {},
   "outputs": [
    {
     "data": {
      "text/html": [
       "<div>\n",
       "<style scoped>\n",
       "    .dataframe tbody tr th:only-of-type {\n",
       "        vertical-align: middle;\n",
       "    }\n",
       "\n",
       "    .dataframe tbody tr th {\n",
       "        vertical-align: top;\n",
       "    }\n",
       "\n",
       "    .dataframe thead th {\n",
       "        text-align: right;\n",
       "    }\n",
       "</style>\n",
       "<table border=\"1\" class=\"dataframe\">\n",
       "  <thead>\n",
       "    <tr style=\"text-align: right;\">\n",
       "      <th></th>\n",
       "      <th>averagerating</th>\n",
       "      <th>numvotes</th>\n",
       "    </tr>\n",
       "  </thead>\n",
       "  <tbody>\n",
       "    <tr>\n",
       "      <th>averagerating</th>\n",
       "      <td>1.000000</td>\n",
       "      <td>0.278394</td>\n",
       "    </tr>\n",
       "    <tr>\n",
       "      <th>numvotes</th>\n",
       "      <td>0.278394</td>\n",
       "      <td>1.000000</td>\n",
       "    </tr>\n",
       "  </tbody>\n",
       "</table>\n",
       "</div>"
      ],
      "text/plain": [
       "               averagerating  numvotes\n",
       "averagerating       1.000000  0.278394\n",
       "numvotes            0.278394  1.000000"
      ]
     },
     "execution_count": 110,
     "metadata": {},
     "output_type": "execute_result"
    }
   ],
   "source": [
    "all3[['averagerating', 'numvotes']].corr()"
   ]
  },
  {
   "cell_type": "code",
   "execution_count": null,
   "metadata": {},
   "outputs": [],
   "source": [
    "#No correlation between the average rating and number of votes"
   ]
  },
  {
   "cell_type": "code",
   "execution_count": 111,
   "metadata": {},
   "outputs": [
    {
     "data": {
      "image/png": "[encoded data removed]",
      "text/plain": [
       "<Figure size 504x360 with 1 Axes>"
      ]
     },
     "metadata": {
      "needs_background": "light"
     },
     "output_type": "display_data"
    }
   ],
   "source": [
    "all3.plot.scatter(x='FOREIGN_GROSS', y = 'numvotes', marker = 'o', figsize = (7,5));"
   ]
  },
  {
   "cell_type": "code",
   "execution_count": 112,
   "metadata": {},
   "outputs": [
    {
     "data": {
      "image/png": "[encoded data removed]",
      "text/plain": [
       "<Figure size 504x360 with 1 Axes>"
      ]
     },
     "metadata": {
      "needs_background": "light"
     },
     "output_type": "display_data"
    }
   ],
   "source": [
    "all3.plot.scatter(x='domestic_gross', y = 'numvotes', marker = 'o', figsize = (7,5));"
   ]
  },
  {
   "cell_type": "code",
   "execution_count": 114,
   "metadata": {},
   "outputs": [
    {
     "data": {
      "image/png": "[encoded data removed]",
      "text/plain": [
       "<Figure size 504x360 with 1 Axes>"
      ]
     },
     "metadata": {
      "needs_background": "light"
     },
     "output_type": "display_data"
    }
   ],
   "source": [
    "all3.plot.scatter(x='averagerating', y = 'numvotes', marker = 'o', figsize = (7,5));"
   ]
  },
  {
   "cell_type": "code",
   "execution_count": 46,
   "metadata": {},
   "outputs": [],
   "source": [
    "sorted_all3 = all3.groupby('genres')['FOREIGN_GROSS'].describe().sort_values(by = 'mean', ascending = True).reset_index()\n",
    "bottom_ten_fg = sorted_all3.head(10)"
   ]
  },
  {
   "cell_type": "code",
   "execution_count": 48,
   "metadata": {},
   "outputs": [
    {
     "data": {
      "image/png": "[encoded data removed]",
      "text/plain": [
       "<Figure size 432x288 with 1 Axes>"
      ]
     },
     "metadata": {
      "needs_background": "light"
     },
     "output_type": "display_data"
    }
   ],
   "source": [
    "plt.bar(bottom_ten_fg['genres'], bottom_ten_fg['mean'], align='center', alpha=0.5)\n",
    "plt.xticks(rotation = 70)\n",
    "plt.title('Mean of Bottom Ten Genres and Their Foreign Gross Revenue')\n",
    "plt.ylabel('Foreign Gross Revenue')\n",
    "plt.show()"
   ]
  },
  {
   "cell_type": "code",
   "execution_count": 50,
   "metadata": {},
   "outputs": [],
   "source": [
    "sorted_all3 = all3.groupby('genres')['domestic_gross'].describe().sort_values(by = 'mean', ascending = True).reset_index()\n",
    "bottom_ten_dg = sorted_all3.head(10)"
   ]
  },
  {
   "cell_type": "code",
   "execution_count": 54,
   "metadata": {},
   "outputs": [
    {
     "data": {
      "image/png": "[encoded data removed]",
      "text/plain": [
       "<Figure size 432x288 with 1 Axes>"
      ]
     },
     "metadata": {
      "needs_background": "light"
     },
     "output_type": "display_data"
    }
   ],
   "source": [
    "plt.bar(bottom_ten_dg['genres'], bottom_ten_dg['mean'], align='center', alpha=0.5)\n",
    "plt.xticks(rotation = 70)\n",
    "plt.title('Mean of Bottom Ten Genres and Their Domestic Gross Revenue')\n",
    "plt.ylabel('Domestic Gross Revenue')\n",
    "plt.show()"
   ]
  },
  {
   "cell_type": "code",
   "execution_count": 52,
   "metadata": {},
   "outputs": [],
   "source": [
    "sorted_all3 = all3.groupby('genres')['averagerating'].describe().sort_values(by = 'mean', ascending = True).reset_index()\n",
    "bottom_ten_ar = sorted_all3.head(10)"
   ]
  },
  {
   "cell_type": "code",
   "execution_count": 53,
   "metadata": {},
   "outputs": [
    {
     "data": {
      "image/png": "[encoded data removed]",
      "text/plain": [
       "<Figure size 432x288 with 1 Axes>"
      ]
     },
     "metadata": {
      "needs_background": "light"
     },
     "output_type": "display_data"
    }
   ],
   "source": [
    "plt.bar(bottom_ten_ar['genres'], bottom_ten_ar['mean'], align='center', alpha=0.5)\n",
    "plt.xticks(rotation = 70)\n",
    "plt.title('Mean of Bottom Ten Genres and Their Average Ratings')\n",
    "plt.ylabel('Average Rating')\n",
    "plt.show()"
   ]
  },
  {
   "cell_type": "code",
   "execution_count": null,
   "metadata": {},
   "outputs": [],
   "source": [
    "#Recommendations: Avoid ComedY, Thriller movies\n",
    "#Recommend: Adventure, drama, sport movies\n",
    "#Recommend: Adventure, Fantasy movies"
   ]
  }
 ],
 "metadata": {
  "kernelspec": {
   "display_name": "Python 3",
   "language": "python",
   "name": "python3"
  },
  "language_info": {
   "codemirror_mode": {
    "name": "ipython",
    "version": 3
   },
   "file_extension": ".py",
   "mimetype": "text/x-python",
   "name": "python",
   "nbconvert_exporter": "python",
   "pygments_lexer": "ipython3",
   "version": "3.8.5"
  }
 },
 "nbformat": 4,
 "nbformat_minor": 4
}
